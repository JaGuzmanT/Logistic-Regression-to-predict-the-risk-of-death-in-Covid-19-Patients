{
 "cells": [
  {
   "cell_type": "markdown",
   "metadata": {},
   "source": [
    "# Feature Selection in Covid-19 Dataset and Predictive Model to determine the Risk of Death"
   ]
  },
  {
   "source": [
    "## 1. Data pre-processing  "
   ],
   "cell_type": "markdown",
   "metadata": {}
  },
  {
   "source": [
    "### Importing the relevant libraries"
   ],
   "cell_type": "markdown",
   "metadata": {}
  },
  {
   "cell_type": "code",
   "execution_count": 51,
   "metadata": {},
   "outputs": [],
   "source": [
    "import matplotlib.pyplot as plt\n",
    "import numpy as np\n",
    "import pandas as pd\n",
    "import seaborn as sns\n",
    "from sklearn.preprocessing import MinMaxScaler\n",
    "from sklearn.metrics import mean_squared_error \n",
    "from sklearn import preprocessing\n",
    "from sklearn.model_selection import train_test_split\n",
    "from sklearn.metrics import classification_report\n",
    "from sklearn.metrics import confusion_matrix\n",
    "%matplotlib inline\n",
    "sns.set() "
   ]
  },
  {
   "cell_type": "markdown",
   "metadata": {},
   "source": [
    "### Charging data"
   ]
  },
  {
   "cell_type": "code",
   "execution_count": 4,
   "metadata": {},
   "outputs": [],
   "source": [
    "df=pd.read_csv('Data.csv',index_col=0) #Your data needs to have a .csv format"
   ]
  },
  {
   "cell_type": "code",
   "execution_count": 6,
   "metadata": {},
   "outputs": [
    {
     "output_type": "execute_result",
     "data": {
      "text/plain": [
       "                    ID_REGISTRO       ORIGEN   SECTOR  ENTIDAD_UM    SEXO  \\\n",
       "FECHA_ACTUALIZACION                                                         \n",
       "02/09/2020               194e4a  FUERA USMER  ESTATAL          27   Mujer   \n",
       "02/09/2020                99786  FUERA USMER     IMSS          25  Hombre   \n",
       "02/09/2020               097d14  FUERA USMER  ESTATAL           2  Hombre   \n",
       "\n",
       "                     ENTIDAD_NAC  ENTIDAD_RES  MUNICIPIO_RES  TIPO_PACIENTE  \\\n",
       "FECHA_ACTUALIZACION                                                           \n",
       "02/09/2020                     7           27              4  HOSPITALIZADO   \n",
       "02/09/2020                    25           25              6    AMBULATORIO   \n",
       "02/09/2020                     2            2              2    AMBULATORIO   \n",
       "\n",
       "                    FECHA_INGRESO  ... OBESIDAD RENAL_CRONICA TABAQUISMO  \\\n",
       "FECHA_ACTUALIZACION                ...                                     \n",
       "02/09/2020             29/06/2020  ...       NO            NO         NO   \n",
       "02/09/2020             30/03/2020  ...       NO            NO         NO   \n",
       "02/09/2020             10/06/2020  ...       NO            NO         NO   \n",
       "\n",
       "                    OTRO_CASO  MIGRANTE PAIS_NACIONALIDAD PAIS_ORIGEN  \\\n",
       "FECHA_ACTUALIZACION                                                     \n",
       "02/09/2020                 SI        99           MÃ©xico          99   \n",
       "02/09/2020                 SI        99           MÃ©xico          99   \n",
       "02/09/2020                 SI        99           MÃ©xico          99   \n",
       "\n",
       "                           UCI       RESULTADO MORTALIDAD  \n",
       "FECHA_ACTUALIZACION                                        \n",
       "02/09/2020                  NO  POSITIVO COVID          1  \n",
       "02/09/2020           NO APLICA  POSITIVO COVID          1  \n",
       "02/09/2020           NO APLICA  POSITIVO COVID          1  \n",
       "\n",
       "[3 rows x 35 columns]"
      ],
      "text/html": "<div>\n<style scoped>\n    .dataframe tbody tr th:only-of-type {\n        vertical-align: middle;\n    }\n\n    .dataframe tbody tr th {\n        vertical-align: top;\n    }\n\n    .dataframe thead th {\n        text-align: right;\n    }\n</style>\n<table border=\"1\" class=\"dataframe\">\n  <thead>\n    <tr style=\"text-align: right;\">\n      <th></th>\n      <th>ID_REGISTRO</th>\n      <th>ORIGEN</th>\n      <th>SECTOR</th>\n      <th>ENTIDAD_UM</th>\n      <th>SEXO</th>\n      <th>ENTIDAD_NAC</th>\n      <th>ENTIDAD_RES</th>\n      <th>MUNICIPIO_RES</th>\n      <th>TIPO_PACIENTE</th>\n      <th>FECHA_INGRESO</th>\n      <th>...</th>\n      <th>OBESIDAD</th>\n      <th>RENAL_CRONICA</th>\n      <th>TABAQUISMO</th>\n      <th>OTRO_CASO</th>\n      <th>MIGRANTE</th>\n      <th>PAIS_NACIONALIDAD</th>\n      <th>PAIS_ORIGEN</th>\n      <th>UCI</th>\n      <th>RESULTADO</th>\n      <th>MORTALIDAD</th>\n    </tr>\n    <tr>\n      <th>FECHA_ACTUALIZACION</th>\n      <th></th>\n      <th></th>\n      <th></th>\n      <th></th>\n      <th></th>\n      <th></th>\n      <th></th>\n      <th></th>\n      <th></th>\n      <th></th>\n      <th></th>\n      <th></th>\n      <th></th>\n      <th></th>\n      <th></th>\n      <th></th>\n      <th></th>\n      <th></th>\n      <th></th>\n      <th></th>\n      <th></th>\n    </tr>\n  </thead>\n  <tbody>\n    <tr>\n      <th>02/09/2020</th>\n      <td>194e4a</td>\n      <td>FUERA USMER</td>\n      <td>ESTATAL</td>\n      <td>27</td>\n      <td>Mujer</td>\n      <td>7</td>\n      <td>27</td>\n      <td>4</td>\n      <td>HOSPITALIZADO</td>\n      <td>29/06/2020</td>\n      <td>...</td>\n      <td>NO</td>\n      <td>NO</td>\n      <td>NO</td>\n      <td>SI</td>\n      <td>99</td>\n      <td>MÃ©xico</td>\n      <td>99</td>\n      <td>NO</td>\n      <td>POSITIVO COVID</td>\n      <td>1</td>\n    </tr>\n    <tr>\n      <th>02/09/2020</th>\n      <td>99786</td>\n      <td>FUERA USMER</td>\n      <td>IMSS</td>\n      <td>25</td>\n      <td>Hombre</td>\n      <td>25</td>\n      <td>25</td>\n      <td>6</td>\n      <td>AMBULATORIO</td>\n      <td>30/03/2020</td>\n      <td>...</td>\n      <td>NO</td>\n      <td>NO</td>\n      <td>NO</td>\n      <td>SI</td>\n      <td>99</td>\n      <td>MÃ©xico</td>\n      <td>99</td>\n      <td>NO APLICA</td>\n      <td>POSITIVO COVID</td>\n      <td>1</td>\n    </tr>\n    <tr>\n      <th>02/09/2020</th>\n      <td>097d14</td>\n      <td>FUERA USMER</td>\n      <td>ESTATAL</td>\n      <td>2</td>\n      <td>Hombre</td>\n      <td>2</td>\n      <td>2</td>\n      <td>2</td>\n      <td>AMBULATORIO</td>\n      <td>10/06/2020</td>\n      <td>...</td>\n      <td>NO</td>\n      <td>NO</td>\n      <td>NO</td>\n      <td>SI</td>\n      <td>99</td>\n      <td>MÃ©xico</td>\n      <td>99</td>\n      <td>NO APLICA</td>\n      <td>POSITIVO COVID</td>\n      <td>1</td>\n    </tr>\n  </tbody>\n</table>\n<p>3 rows × 35 columns</p>\n</div>"
     },
     "metadata": {},
     "execution_count": 6
    }
   ],
   "source": [
    "df.head(3) #Visualizing the data"
   ]
  },
  {
   "cell_type": "code",
   "execution_count": 8,
   "metadata": {},
   "outputs": [
    {
     "output_type": "stream",
     "name": "stdout",
     "text": [
      "The dataset has 1048575 observations and  35 regressors\n"
     ]
    }
   ],
   "source": [
    "print('The dataset has %s observations and  %s regressors' % (df.shape[0],df.shape[1]))"
   ]
  },
  {
   "cell_type": "markdown",
   "metadata": {},
   "source": [
    "### Checking data types"
   ]
  },
  {
   "cell_type": "code",
   "execution_count": 10,
   "metadata": {
    "scrolled": true
   },
   "outputs": [
    {
     "output_type": "execute_result",
     "data": {
      "text/plain": [
       "ID_REGISTRO           object\n",
       "ORIGEN                object\n",
       "SECTOR                object\n",
       "ENTIDAD_UM             int64\n",
       "SEXO                  object\n",
       "ENTIDAD_NAC            int64\n",
       "ENTIDAD_RES            int64\n",
       "MUNICIPIO_RES          int64\n",
       "TIPO_PACIENTE         object\n",
       "FECHA_INGRESO         object\n",
       "FECHA_SINTOMAS        object\n",
       "FECHA_DEF             object\n",
       "INTUBADO              object\n",
       "NEUMONIA              object\n",
       "EDAD                   int64\n",
       "NACIONALIDAD          object\n",
       "EMBARAZO              object\n",
       "HABLA_LENGUA_INDIG    object\n",
       "DIABETES              object\n",
       "EPOC                  object\n",
       "ASMA                  object\n",
       "INMUSUPR              object\n",
       "HIPERTENSION          object\n",
       "OTRA_COM              object\n",
       "CARDIOVASCULAR        object\n",
       "OBESIDAD              object\n",
       "RENAL_CRONICA         object\n",
       "TABAQUISMO            object\n",
       "OTRO_CASO             object\n",
       "MIGRANTE               int64\n",
       "PAIS_NACIONALIDAD     object\n",
       "PAIS_ORIGEN           object\n",
       "UCI                   object\n",
       "RESULTADO             object\n",
       "MORTALIDAD             int64\n",
       "dtype: object"
      ]
     },
     "metadata": {},
     "execution_count": 10
    }
   ],
   "source": [
    "df.dtypes"
   ]
  },
  {
   "cell_type": "code",
   "execution_count": 11,
   "metadata": {},
   "outputs": [],
   "source": [
    "#Generating a dataset copy to don't modify the original file\n",
    "df_mapped=df.copy()"
   ]
  },
  {
   "cell_type": "code",
   "execution_count": 12,
   "metadata": {},
   "outputs": [],
   "source": [
    "# Here, it is neccesary to drop the features that we don't need or what we consider not useful.  \n",
    "df_mapped.drop(['ENTIDAD_UM','ENTIDAD_NAC','ENTIDAD_RES','MUNICIPIO_RES','PAIS_NACIONALIDAD','PAIS_ORIGEN','MIGRANTE','SECTOR','ORIGEN','ID_REGISTRO','FECHA_INGRESO','FECHA_SINTOMAS','FECHA_DEF','NACIONALIDAD','HABLA_LENGUA_INDIG','INTUBADO','UCI'], axis='columns', inplace=True)"
   ]
  },
  {
   "cell_type": "code",
   "execution_count": 14,
   "metadata": {},
   "outputs": [
    {
     "output_type": "stream",
     "name": "stdout",
     "text": [
      "The new dataset has 1048575 observations and  18 regressors\n"
     ]
    }
   ],
   "source": [
    "print('The new dataset has %s observations and  %s regressors' %(df_mapped.shape[0],df_mapped.shape[1]))"
   ]
  },
  {
   "cell_type": "markdown",
   "metadata": {},
   "source": [
    "### Checking missing values \n"
   ]
  },
  {
   "cell_type": "code",
   "execution_count": 17,
   "metadata": {},
   "outputs": [
    {
     "output_type": "execute_result",
     "data": {
      "text/plain": [
       "SEXO              0\n",
       "TIPO_PACIENTE     0\n",
       "RESULTADO         0\n",
       "OTRO_CASO         0\n",
       "TABAQUISMO        0\n",
       "RENAL_CRONICA     0\n",
       "OBESIDAD          0\n",
       "CARDIOVASCULAR    0\n",
       "OTRA_COM          0\n",
       "HIPERTENSION      0\n",
       "INMUSUPR          0\n",
       "ASMA              0\n",
       "EPOC              0\n",
       "DIABETES          0\n",
       "EMBARAZO          0\n",
       "EDAD              0\n",
       "NEUMONIA          0\n",
       "MORTALIDAD        0\n",
       "dtype: int64"
      ]
     },
     "metadata": {},
     "execution_count": 17
    }
   ],
   "source": [
    "df_mapped.isnull().sum().sort_values(ascending=False).head(18)#counting the empty elements"
   ]
  },
  {
   "source": [
    "### Getting the dummies features "
   ],
   "cell_type": "markdown",
   "metadata": {}
  },
  {
   "cell_type": "code",
   "execution_count": 19,
   "metadata": {},
   "outputs": [],
   "source": [
    "df_w_dummy = pd.get_dummies(df_mapped, columns=['RESULTADO','SEXO','TIPO_PACIENTE','NEUMONIA','EMBARAZO','DIABETES','EPOC','ASMA','INMUSUPR','HIPERTENSION','OTRA_COM','CARDIOVASCULAR','OBESIDAD','RENAL_CRONICA','TABAQUISMO','OTRO_CASO'],drop_first=True) #'drop first=True' indicates the elimination of the first variable for each categorie to avoid multicolinearity problems \n"
   ]
  },
  {
   "cell_type": "code",
   "execution_count": 22,
   "metadata": {},
   "outputs": [
    {
     "output_type": "execute_result",
     "data": {
      "text/plain": [
       "                     EDAD  MORTALIDAD  RESULTADO_POSITIVO COVID  \\\n",
       "FECHA_ACTUALIZACION                                               \n",
       "02/09/2020             35           1                         1   \n",
       "02/09/2020             35           1                         1   \n",
       "02/09/2020             27           1                         1   \n",
       "02/09/2020             38           1                         1   \n",
       "02/09/2020             64           0                         1   \n",
       "\n",
       "                     RESULTADO_Resultado Pendiente  SEXO_Mujer  \\\n",
       "FECHA_ACTUALIZACION                                              \n",
       "02/09/2020                                       0           1   \n",
       "02/09/2020                                       0           0   \n",
       "02/09/2020                                       0           0   \n",
       "02/09/2020                                       0           1   \n",
       "02/09/2020                                       0           0   \n",
       "\n",
       "                     TIPO_PACIENTE_HOSPITALIZADO  NEUMONIA_NO ESPECIFICADO  \\\n",
       "FECHA_ACTUALIZACION                                                          \n",
       "02/09/2020                                     1                         0   \n",
       "02/09/2020                                     0                         0   \n",
       "02/09/2020                                     0                         0   \n",
       "02/09/2020                                     0                         0   \n",
       "02/09/2020                                     1                         0   \n",
       "\n",
       "                     NEUMONIA_SI  EMBARAZO_NO APLICA  EMBARAZO_SE IGNORA  ...  \\\n",
       "FECHA_ACTUALIZACION                                                       ...   \n",
       "02/09/2020                     0                   0                   0  ...   \n",
       "02/09/2020                     0                   1                   0  ...   \n",
       "02/09/2020                     0                   1                   0  ...   \n",
       "02/09/2020                     0                   0                   0  ...   \n",
       "02/09/2020                     1                   1                   0  ...   \n",
       "\n",
       "                     CARDIOVASCULAR_SE IGNORA  CARDIOVASCULAR_SI  \\\n",
       "FECHA_ACTUALIZACION                                                \n",
       "02/09/2020                                  0                  0   \n",
       "02/09/2020                                  0                  0   \n",
       "02/09/2020                                  0                  0   \n",
       "02/09/2020                                  0                  0   \n",
       "02/09/2020                                  0                  0   \n",
       "\n",
       "                     OBESIDAD_SE IGNORA  OBESIDAD_SI  RENAL_CRONICA_SE IGNORA  \\\n",
       "FECHA_ACTUALIZACION                                                             \n",
       "02/09/2020                            0            0                        0   \n",
       "02/09/2020                            0            0                        0   \n",
       "02/09/2020                            0            0                        0   \n",
       "02/09/2020                            0            1                        0   \n",
       "02/09/2020                            0            0                        0   \n",
       "\n",
       "                     RENAL_CRONICA_SI  TABAQUISMO_SE IGNORA  TABAQUISMO_SI  \\\n",
       "FECHA_ACTUALIZACION                                                          \n",
       "02/09/2020                          0                     0              0   \n",
       "02/09/2020                          0                     0              0   \n",
       "02/09/2020                          0                     0              0   \n",
       "02/09/2020                          0                     0              0   \n",
       "02/09/2020                          0                     0              0   \n",
       "\n",
       "                     OTRO_CASO_NO ESPECIFICADO  OTRO_CASO_SI  \n",
       "FECHA_ACTUALIZACION                                           \n",
       "02/09/2020                                   0             1  \n",
       "02/09/2020                                   0             1  \n",
       "02/09/2020                                   0             1  \n",
       "02/09/2020                                   0             1  \n",
       "02/09/2020                                   1             0  \n",
       "\n",
       "[5 rows x 33 columns]"
      ],
      "text/html": "<div>\n<style scoped>\n    .dataframe tbody tr th:only-of-type {\n        vertical-align: middle;\n    }\n\n    .dataframe tbody tr th {\n        vertical-align: top;\n    }\n\n    .dataframe thead th {\n        text-align: right;\n    }\n</style>\n<table border=\"1\" class=\"dataframe\">\n  <thead>\n    <tr style=\"text-align: right;\">\n      <th></th>\n      <th>EDAD</th>\n      <th>MORTALIDAD</th>\n      <th>RESULTADO_POSITIVO COVID</th>\n      <th>RESULTADO_Resultado Pendiente</th>\n      <th>SEXO_Mujer</th>\n      <th>TIPO_PACIENTE_HOSPITALIZADO</th>\n      <th>NEUMONIA_NO ESPECIFICADO</th>\n      <th>NEUMONIA_SI</th>\n      <th>EMBARAZO_NO APLICA</th>\n      <th>EMBARAZO_SE IGNORA</th>\n      <th>...</th>\n      <th>CARDIOVASCULAR_SE IGNORA</th>\n      <th>CARDIOVASCULAR_SI</th>\n      <th>OBESIDAD_SE IGNORA</th>\n      <th>OBESIDAD_SI</th>\n      <th>RENAL_CRONICA_SE IGNORA</th>\n      <th>RENAL_CRONICA_SI</th>\n      <th>TABAQUISMO_SE IGNORA</th>\n      <th>TABAQUISMO_SI</th>\n      <th>OTRO_CASO_NO ESPECIFICADO</th>\n      <th>OTRO_CASO_SI</th>\n    </tr>\n    <tr>\n      <th>FECHA_ACTUALIZACION</th>\n      <th></th>\n      <th></th>\n      <th></th>\n      <th></th>\n      <th></th>\n      <th></th>\n      <th></th>\n      <th></th>\n      <th></th>\n      <th></th>\n      <th></th>\n      <th></th>\n      <th></th>\n      <th></th>\n      <th></th>\n      <th></th>\n      <th></th>\n      <th></th>\n      <th></th>\n      <th></th>\n      <th></th>\n    </tr>\n  </thead>\n  <tbody>\n    <tr>\n      <th>02/09/2020</th>\n      <td>35</td>\n      <td>1</td>\n      <td>1</td>\n      <td>0</td>\n      <td>1</td>\n      <td>1</td>\n      <td>0</td>\n      <td>0</td>\n      <td>0</td>\n      <td>0</td>\n      <td>...</td>\n      <td>0</td>\n      <td>0</td>\n      <td>0</td>\n      <td>0</td>\n      <td>0</td>\n      <td>0</td>\n      <td>0</td>\n      <td>0</td>\n      <td>0</td>\n      <td>1</td>\n    </tr>\n    <tr>\n      <th>02/09/2020</th>\n      <td>35</td>\n      <td>1</td>\n      <td>1</td>\n      <td>0</td>\n      <td>0</td>\n      <td>0</td>\n      <td>0</td>\n      <td>0</td>\n      <td>1</td>\n      <td>0</td>\n      <td>...</td>\n      <td>0</td>\n      <td>0</td>\n      <td>0</td>\n      <td>0</td>\n      <td>0</td>\n      <td>0</td>\n      <td>0</td>\n      <td>0</td>\n      <td>0</td>\n      <td>1</td>\n    </tr>\n    <tr>\n      <th>02/09/2020</th>\n      <td>27</td>\n      <td>1</td>\n      <td>1</td>\n      <td>0</td>\n      <td>0</td>\n      <td>0</td>\n      <td>0</td>\n      <td>0</td>\n      <td>1</td>\n      <td>0</td>\n      <td>...</td>\n      <td>0</td>\n      <td>0</td>\n      <td>0</td>\n      <td>0</td>\n      <td>0</td>\n      <td>0</td>\n      <td>0</td>\n      <td>0</td>\n      <td>0</td>\n      <td>1</td>\n    </tr>\n    <tr>\n      <th>02/09/2020</th>\n      <td>38</td>\n      <td>1</td>\n      <td>1</td>\n      <td>0</td>\n      <td>1</td>\n      <td>0</td>\n      <td>0</td>\n      <td>0</td>\n      <td>0</td>\n      <td>0</td>\n      <td>...</td>\n      <td>0</td>\n      <td>0</td>\n      <td>0</td>\n      <td>1</td>\n      <td>0</td>\n      <td>0</td>\n      <td>0</td>\n      <td>0</td>\n      <td>0</td>\n      <td>1</td>\n    </tr>\n    <tr>\n      <th>02/09/2020</th>\n      <td>64</td>\n      <td>0</td>\n      <td>1</td>\n      <td>0</td>\n      <td>0</td>\n      <td>1</td>\n      <td>0</td>\n      <td>1</td>\n      <td>1</td>\n      <td>0</td>\n      <td>...</td>\n      <td>0</td>\n      <td>0</td>\n      <td>0</td>\n      <td>0</td>\n      <td>0</td>\n      <td>0</td>\n      <td>0</td>\n      <td>0</td>\n      <td>1</td>\n      <td>0</td>\n    </tr>\n  </tbody>\n</table>\n<p>5 rows × 33 columns</p>\n</div>"
     },
     "metadata": {},
     "execution_count": 22
    }
   ],
   "source": [
    "df_w_dummy.head() #Visualizing the data with dummies variables"
   ]
  },
  {
   "cell_type": "code",
   "execution_count": 23,
   "metadata": {},
   "outputs": [],
   "source": [
    "### Checking data types of the new dataset"
   ]
  },
  {
   "cell_type": "code",
   "execution_count": 24,
   "metadata": {},
   "outputs": [
    {
     "output_type": "execute_result",
     "data": {
      "text/plain": [
       "EDAD                             int64\n",
       "MORTALIDAD                       int64\n",
       "RESULTADO_POSITIVO COVID         uint8\n",
       "RESULTADO_Resultado Pendiente    uint8\n",
       "SEXO_Mujer                       uint8\n",
       "TIPO_PACIENTE_HOSPITALIZADO      uint8\n",
       "NEUMONIA_NO ESPECIFICADO         uint8\n",
       "NEUMONIA_SI                      uint8\n",
       "EMBARAZO_NO APLICA               uint8\n",
       "EMBARAZO_SE IGNORA               uint8\n",
       "EMBARAZO_SI                      uint8\n",
       "DIABETES_SE IGNORA               uint8\n",
       "DIABETES_SI                      uint8\n",
       "EPOC_SE IGNORA                   uint8\n",
       "EPOC_SI                          uint8\n",
       "ASMA_SE IGNORA                   uint8\n",
       "ASMA_SI                          uint8\n",
       "INMUSUPR_SE IGNORA               uint8\n",
       "INMUSUPR_SI                      uint8\n",
       "HIPERTENSION_SE IGNORA           uint8\n",
       "HIPERTENSION_SI                  uint8\n",
       "OTRA_COM_SE IGNORA               uint8\n",
       "OTRA_COM_SI                      uint8\n",
       "CARDIOVASCULAR_SE IGNORA         uint8\n",
       "CARDIOVASCULAR_SI                uint8\n",
       "OBESIDAD_SE IGNORA               uint8\n",
       "OBESIDAD_SI                      uint8\n",
       "RENAL_CRONICA_SE IGNORA          uint8\n",
       "RENAL_CRONICA_SI                 uint8\n",
       "TABAQUISMO_SE IGNORA             uint8\n",
       "TABAQUISMO_SI                    uint8\n",
       "OTRO_CASO_NO ESPECIFICADO        uint8\n",
       "OTRO_CASO_SI                     uint8\n",
       "dtype: object"
      ]
     },
     "metadata": {},
     "execution_count": 24
    }
   ],
   "source": [
    "df_w_dummy.dtypes"
   ]
  },
  {
   "source": [
    "# 2. Defining the target"
   ],
   "cell_type": "markdown",
   "metadata": {}
  },
  {
   "cell_type": "code",
   "execution_count": 25,
   "metadata": {},
   "outputs": [],
   "source": [
    "### Here we define that the target is the feature called \"Mortalidad\""
   ]
  },
  {
   "cell_type": "code",
   "execution_count": 27,
   "metadata": {},
   "outputs": [
    {
     "output_type": "execute_result",
     "data": {
      "text/plain": [
       "1    970039\n",
       "0     78536\n",
       "Name: MORTALIDAD, dtype: int64"
      ]
     },
     "metadata": {},
     "execution_count": 27
    }
   ],
   "source": [
    "df_w_dummy.MORTALIDAD.value_counts() #Checking the number of deaths\n",
    "#1=survivor\n",
    "#0=death"
   ]
  },
  {
   "cell_type": "code",
   "execution_count": 28,
   "metadata": {},
   "outputs": [],
   "source": [
    "df_muertos = df_w_dummy[df_w_dummy['MORTALIDAD'] == 0]\n",
    "df_vivos = df_w_dummy[df_w_dummy['MORTALIDAD'] == 1]"
   ]
  },
  {
   "source": [
    "# 3. Feature selection process"
   ],
   "cell_type": "markdown",
   "metadata": {}
  },
  {
   "cell_type": "code",
   "execution_count": 35,
   "metadata": {},
   "outputs": [],
   "source": [
    "#Undersampling and shuffling the data in order to have the same proportion in both classes and generate a robust model"
   ]
  },
  {
   "cell_type": "code",
   "execution_count": 36,
   "metadata": {},
   "outputs": [
    {
     "output_type": "execute_result",
     "data": {
      "text/plain": [
       "                     EDAD  MORTALIDAD  RESULTADO_POSITIVO COVID  \\\n",
       "FECHA_ACTUALIZACION                                               \n",
       "02/09/2020           37.0         1.0                       0.0   \n",
       "02/09/2020           51.0         1.0                       1.0   \n",
       "02/09/2020           11.0         1.0                       1.0   \n",
       "02/09/2020           65.0         1.0                       1.0   \n",
       "02/09/2020           30.0         1.0                       0.0   \n",
       "\n",
       "                     RESULTADO_Resultado Pendiente  SEXO_Mujer  \\\n",
       "FECHA_ACTUALIZACION                                              \n",
       "02/09/2020                                     0.0         0.0   \n",
       "02/09/2020                                     0.0         1.0   \n",
       "02/09/2020                                     0.0         0.0   \n",
       "02/09/2020                                     0.0         1.0   \n",
       "02/09/2020                                     0.0         0.0   \n",
       "\n",
       "                     TIPO_PACIENTE_HOSPITALIZADO  NEUMONIA_NO ESPECIFICADO  \\\n",
       "FECHA_ACTUALIZACION                                                          \n",
       "02/09/2020                                   0.0                       0.0   \n",
       "02/09/2020                                   0.0                       0.0   \n",
       "02/09/2020                                   0.0                       0.0   \n",
       "02/09/2020                                   1.0                       0.0   \n",
       "02/09/2020                                   0.0                       0.0   \n",
       "\n",
       "                     NEUMONIA_SI  EMBARAZO_NO APLICA  EMBARAZO_SE IGNORA  ...  \\\n",
       "FECHA_ACTUALIZACION                                                       ...   \n",
       "02/09/2020                   0.0                 1.0                 0.0  ...   \n",
       "02/09/2020                   0.0                 0.0                 0.0  ...   \n",
       "02/09/2020                   0.0                 1.0                 0.0  ...   \n",
       "02/09/2020                   0.0                 0.0                 0.0  ...   \n",
       "02/09/2020                   0.0                 1.0                 0.0  ...   \n",
       "\n",
       "                     CARDIOVASCULAR_SE IGNORA  CARDIOVASCULAR_SI  \\\n",
       "FECHA_ACTUALIZACION                                                \n",
       "02/09/2020                                0.0                0.0   \n",
       "02/09/2020                                0.0                0.0   \n",
       "02/09/2020                                0.0                0.0   \n",
       "02/09/2020                                0.0                0.0   \n",
       "02/09/2020                                0.0                0.0   \n",
       "\n",
       "                     OBESIDAD_SE IGNORA  OBESIDAD_SI  RENAL_CRONICA_SE IGNORA  \\\n",
       "FECHA_ACTUALIZACION                                                             \n",
       "02/09/2020                          0.0          0.0                      0.0   \n",
       "02/09/2020                          0.0          0.0                      0.0   \n",
       "02/09/2020                          0.0          0.0                      0.0   \n",
       "02/09/2020                          0.0          0.0                      0.0   \n",
       "02/09/2020                          0.0          0.0                      0.0   \n",
       "\n",
       "                     RENAL_CRONICA_SI  TABAQUISMO_SE IGNORA  TABAQUISMO_SI  \\\n",
       "FECHA_ACTUALIZACION                                                          \n",
       "02/09/2020                        0.0                   0.0            0.0   \n",
       "02/09/2020                        0.0                   0.0            0.0   \n",
       "02/09/2020                        0.0                   0.0            0.0   \n",
       "02/09/2020                        0.0                   0.0            0.0   \n",
       "02/09/2020                        0.0                   0.0            0.0   \n",
       "\n",
       "                     OTRO_CASO_NO ESPECIFICADO  OTRO_CASO_SI  \n",
       "FECHA_ACTUALIZACION                                           \n",
       "02/09/2020                                 0.0           0.0  \n",
       "02/09/2020                                 0.0           1.0  \n",
       "02/09/2020                                 0.0           0.0  \n",
       "02/09/2020                                 1.0           0.0  \n",
       "02/09/2020                                 0.0           1.0  \n",
       "\n",
       "[5 rows x 33 columns]"
      ],
      "text/html": "<div>\n<style scoped>\n    .dataframe tbody tr th:only-of-type {\n        vertical-align: middle;\n    }\n\n    .dataframe tbody tr th {\n        vertical-align: top;\n    }\n\n    .dataframe thead th {\n        text-align: right;\n    }\n</style>\n<table border=\"1\" class=\"dataframe\">\n  <thead>\n    <tr style=\"text-align: right;\">\n      <th></th>\n      <th>EDAD</th>\n      <th>MORTALIDAD</th>\n      <th>RESULTADO_POSITIVO COVID</th>\n      <th>RESULTADO_Resultado Pendiente</th>\n      <th>SEXO_Mujer</th>\n      <th>TIPO_PACIENTE_HOSPITALIZADO</th>\n      <th>NEUMONIA_NO ESPECIFICADO</th>\n      <th>NEUMONIA_SI</th>\n      <th>EMBARAZO_NO APLICA</th>\n      <th>EMBARAZO_SE IGNORA</th>\n      <th>...</th>\n      <th>CARDIOVASCULAR_SE IGNORA</th>\n      <th>CARDIOVASCULAR_SI</th>\n      <th>OBESIDAD_SE IGNORA</th>\n      <th>OBESIDAD_SI</th>\n      <th>RENAL_CRONICA_SE IGNORA</th>\n      <th>RENAL_CRONICA_SI</th>\n      <th>TABAQUISMO_SE IGNORA</th>\n      <th>TABAQUISMO_SI</th>\n      <th>OTRO_CASO_NO ESPECIFICADO</th>\n      <th>OTRO_CASO_SI</th>\n    </tr>\n    <tr>\n      <th>FECHA_ACTUALIZACION</th>\n      <th></th>\n      <th></th>\n      <th></th>\n      <th></th>\n      <th></th>\n      <th></th>\n      <th></th>\n      <th></th>\n      <th></th>\n      <th></th>\n      <th></th>\n      <th></th>\n      <th></th>\n      <th></th>\n      <th></th>\n      <th></th>\n      <th></th>\n      <th></th>\n      <th></th>\n      <th></th>\n      <th></th>\n    </tr>\n  </thead>\n  <tbody>\n    <tr>\n      <th>02/09/2020</th>\n      <td>37.0</td>\n      <td>1.0</td>\n      <td>0.0</td>\n      <td>0.0</td>\n      <td>0.0</td>\n      <td>0.0</td>\n      <td>0.0</td>\n      <td>0.0</td>\n      <td>1.0</td>\n      <td>0.0</td>\n      <td>...</td>\n      <td>0.0</td>\n      <td>0.0</td>\n      <td>0.0</td>\n      <td>0.0</td>\n      <td>0.0</td>\n      <td>0.0</td>\n      <td>0.0</td>\n      <td>0.0</td>\n      <td>0.0</td>\n      <td>0.0</td>\n    </tr>\n    <tr>\n      <th>02/09/2020</th>\n      <td>51.0</td>\n      <td>1.0</td>\n      <td>1.0</td>\n      <td>0.0</td>\n      <td>1.0</td>\n      <td>0.0</td>\n      <td>0.0</td>\n      <td>0.0</td>\n      <td>0.0</td>\n      <td>0.0</td>\n      <td>...</td>\n      <td>0.0</td>\n      <td>0.0</td>\n      <td>0.0</td>\n      <td>0.0</td>\n      <td>0.0</td>\n      <td>0.0</td>\n      <td>0.0</td>\n      <td>0.0</td>\n      <td>0.0</td>\n      <td>1.0</td>\n    </tr>\n    <tr>\n      <th>02/09/2020</th>\n      <td>11.0</td>\n      <td>1.0</td>\n      <td>1.0</td>\n      <td>0.0</td>\n      <td>0.0</td>\n      <td>0.0</td>\n      <td>0.0</td>\n      <td>0.0</td>\n      <td>1.0</td>\n      <td>0.0</td>\n      <td>...</td>\n      <td>0.0</td>\n      <td>0.0</td>\n      <td>0.0</td>\n      <td>0.0</td>\n      <td>0.0</td>\n      <td>0.0</td>\n      <td>0.0</td>\n      <td>0.0</td>\n      <td>0.0</td>\n      <td>0.0</td>\n    </tr>\n    <tr>\n      <th>02/09/2020</th>\n      <td>65.0</td>\n      <td>1.0</td>\n      <td>1.0</td>\n      <td>0.0</td>\n      <td>1.0</td>\n      <td>1.0</td>\n      <td>0.0</td>\n      <td>0.0</td>\n      <td>0.0</td>\n      <td>0.0</td>\n      <td>...</td>\n      <td>0.0</td>\n      <td>0.0</td>\n      <td>0.0</td>\n      <td>0.0</td>\n      <td>0.0</td>\n      <td>0.0</td>\n      <td>0.0</td>\n      <td>0.0</td>\n      <td>1.0</td>\n      <td>0.0</td>\n    </tr>\n    <tr>\n      <th>02/09/2020</th>\n      <td>30.0</td>\n      <td>1.0</td>\n      <td>0.0</td>\n      <td>0.0</td>\n      <td>0.0</td>\n      <td>0.0</td>\n      <td>0.0</td>\n      <td>0.0</td>\n      <td>1.0</td>\n      <td>0.0</td>\n      <td>...</td>\n      <td>0.0</td>\n      <td>0.0</td>\n      <td>0.0</td>\n      <td>0.0</td>\n      <td>0.0</td>\n      <td>0.0</td>\n      <td>0.0</td>\n      <td>0.0</td>\n      <td>0.0</td>\n      <td>1.0</td>\n    </tr>\n  </tbody>\n</table>\n<p>5 rows × 33 columns</p>\n</div>"
     },
     "metadata": {},
     "execution_count": 36
    }
   ],
   "source": [
    "df_vivos_reduced = df_vivos.sample(df_muertos.shape[0],random_state=103)\n",
    "df_reduced = pd.concat([df_vivos_reduced,df_muertos],axis=0)\n",
    "df_reduced = df_reduced.sample(frac=1,random_state=103)\n",
    "df_reduced = df_reduced.astype('float64')\n",
    "df_reduced.head()"
   ]
  },
  {
   "source": [
    "### Checking the shape of the dataset"
   ],
   "cell_type": "markdown",
   "metadata": {}
  },
  {
   "cell_type": "code",
   "execution_count": 38,
   "metadata": {},
   "outputs": [
    {
     "output_type": "execute_result",
     "data": {
      "text/plain": [
       "(157072, 33)"
      ]
     },
     "metadata": {},
     "execution_count": 38
    }
   ],
   "source": [
    "df_reduced.shape"
   ]
  },
  {
   "source": [
    "### Verifing the sapmles for each class"
   ],
   "cell_type": "markdown",
   "metadata": {}
  },
  {
   "cell_type": "code",
   "execution_count": 50,
   "metadata": {},
   "outputs": [
    {
     "output_type": "execute_result",
     "data": {
      "text/plain": [
       "0.0    78536\n",
       "1.0    78536\n",
       "Name: MORTALIDAD, dtype: int64"
      ]
     },
     "metadata": {},
     "execution_count": 50
    }
   ],
   "source": [
    "df_reduced.MORTALIDAD.value_counts()"
   ]
  },
  {
   "cell_type": "code",
   "execution_count": 40,
   "metadata": {},
   "outputs": [],
   "source": [
    "# Establishing the target and the regressors\n",
    "y=df_reduced['MORTALIDAD']\n",
    "x=df_reduced.drop('MORTALIDAD',axis=1)"
   ]
  },
  {
   "cell_type": "code",
   "execution_count": 41,
   "metadata": {},
   "outputs": [
    {
     "output_type": "stream",
     "name": "stdout",
     "text": [
      "(157072,)\n(157072, 32)\n"
     ]
    }
   ],
   "source": [
    "print(y.shape)\n",
    "print(x.shape)"
   ]
  },
  {
   "source": [
    "### Splitting the dataset in training and test"
   ],
   "cell_type": "markdown",
   "metadata": {}
  },
  {
   "cell_type": "code",
   "execution_count": 42,
   "metadata": {},
   "outputs": [],
   "source": [
    "X_scaler = MinMaxScaler()\n",
    "X = X_scaler.fit_transform(x)\n",
    "y_scaler = MinMaxScaler()\n",
    "y = y_scaler.fit_transform(y.values.reshape(-1, 1))\n",
    "X_train, X_test, y_train, y_test = train_test_split(\n",
    "    X, y, test_size=0.30, random_state=103)"
   ]
  },
  {
   "source": [
    "### Getting the best variables using the RFE"
   ],
   "cell_type": "markdown",
   "metadata": {}
  },
  {
   "cell_type": "code",
   "execution_count": 44,
   "metadata": {
    "tags": []
   },
   "outputs": [
    {
     "output_type": "stream",
     "name": "stderr",
     "text": [
      "C:\\Users\\TORIT\\anaconda3\\envs\\Tensorflow\\lib\\site-packages\\sklearn\\utils\\validation.py:70: FutureWarning: Pass n_features_to_select=15 as keyword args. From version 1.0 (renaming of 0.25) passing these as positional arguments will result in an error\n",
      "  warnings.warn(f\"Pass {args_msg} as keyword args. From version \"\n",
      "[ True  True  True  True  True False  True False  True  True False  True\n",
      " False False False False False  True False False  True  True False False\n",
      " False False False  True False False  True  True]\n",
      "[ 1  1  1  1  1 17  1  7  1  1 16  1 11 18  4 14 13  1 10  6  1  1  2 15\n",
      "  3  8  5  1  9 12  1  1]\n"
     ]
    }
   ],
   "source": [
    "from sklearn.feature_selection import RFE #recursive feature elimination\n",
    "from sklearn.linear_model import LogisticRegression\n",
    "estimator = LogisticRegression(solver='saga', class_weight='balanced')\n",
    "selector = RFE(estimator, 15, step=1)\n",
    "selector = selector.fit(X_train, y_train.ravel())\n",
    "\n",
    "print(selector.support_)\n",
    "print(selector.ranking_)"
   ]
  },
  {
   "cell_type": "code",
   "execution_count": 45,
   "metadata": {},
   "outputs": [
    {
     "output_type": "execute_result",
     "data": {
      "text/plain": [
       "                     EDAD  RESULTADO_POSITIVO COVID  \\\n",
       "FECHA_ACTUALIZACION                                   \n",
       "02/09/2020           37.0                       0.0   \n",
       "02/09/2020           51.0                       1.0   \n",
       "02/09/2020           11.0                       1.0   \n",
       "02/09/2020           65.0                       1.0   \n",
       "02/09/2020           30.0                       0.0   \n",
       "\n",
       "                     RESULTADO_Resultado Pendiente  SEXO_Mujer  \\\n",
       "FECHA_ACTUALIZACION                                              \n",
       "02/09/2020                                     0.0         0.0   \n",
       "02/09/2020                                     0.0         1.0   \n",
       "02/09/2020                                     0.0         0.0   \n",
       "02/09/2020                                     0.0         1.0   \n",
       "02/09/2020                                     0.0         0.0   \n",
       "\n",
       "                     TIPO_PACIENTE_HOSPITALIZADO  NEUMONIA_SI  \\\n",
       "FECHA_ACTUALIZACION                                             \n",
       "02/09/2020                                   0.0          0.0   \n",
       "02/09/2020                                   0.0          0.0   \n",
       "02/09/2020                                   0.0          0.0   \n",
       "02/09/2020                                   1.0          0.0   \n",
       "02/09/2020                                   0.0          0.0   \n",
       "\n",
       "                     EMBARAZO_SE IGNORA  EMBARAZO_SI  DIABETES_SI  \\\n",
       "FECHA_ACTUALIZACION                                                 \n",
       "02/09/2020                          0.0          0.0          0.0   \n",
       "02/09/2020                          0.0          0.0          0.0   \n",
       "02/09/2020                          0.0          0.0          0.0   \n",
       "02/09/2020                          0.0          0.0          0.0   \n",
       "02/09/2020                          0.0          0.0          0.0   \n",
       "\n",
       "                     INMUSUPR_SI  OTRA_COM_SE IGNORA  OTRA_COM_SI  \\\n",
       "FECHA_ACTUALIZACION                                                 \n",
       "02/09/2020                   0.0                 0.0          0.0   \n",
       "02/09/2020                   0.0                 0.0          0.0   \n",
       "02/09/2020                   0.0                 0.0          0.0   \n",
       "02/09/2020                   0.0                 0.0          0.0   \n",
       "02/09/2020                   0.0                 0.0          0.0   \n",
       "\n",
       "                     RENAL_CRONICA_SI  OTRO_CASO_NO ESPECIFICADO  OTRO_CASO_SI  \n",
       "FECHA_ACTUALIZACION                                                             \n",
       "02/09/2020                        0.0                        0.0           0.0  \n",
       "02/09/2020                        0.0                        0.0           1.0  \n",
       "02/09/2020                        0.0                        0.0           0.0  \n",
       "02/09/2020                        0.0                        1.0           0.0  \n",
       "02/09/2020                        0.0                        0.0           1.0  "
      ],
      "text/html": "<div>\n<style scoped>\n    .dataframe tbody tr th:only-of-type {\n        vertical-align: middle;\n    }\n\n    .dataframe tbody tr th {\n        vertical-align: top;\n    }\n\n    .dataframe thead th {\n        text-align: right;\n    }\n</style>\n<table border=\"1\" class=\"dataframe\">\n  <thead>\n    <tr style=\"text-align: right;\">\n      <th></th>\n      <th>EDAD</th>\n      <th>RESULTADO_POSITIVO COVID</th>\n      <th>RESULTADO_Resultado Pendiente</th>\n      <th>SEXO_Mujer</th>\n      <th>TIPO_PACIENTE_HOSPITALIZADO</th>\n      <th>NEUMONIA_SI</th>\n      <th>EMBARAZO_SE IGNORA</th>\n      <th>EMBARAZO_SI</th>\n      <th>DIABETES_SI</th>\n      <th>INMUSUPR_SI</th>\n      <th>OTRA_COM_SE IGNORA</th>\n      <th>OTRA_COM_SI</th>\n      <th>RENAL_CRONICA_SI</th>\n      <th>OTRO_CASO_NO ESPECIFICADO</th>\n      <th>OTRO_CASO_SI</th>\n    </tr>\n    <tr>\n      <th>FECHA_ACTUALIZACION</th>\n      <th></th>\n      <th></th>\n      <th></th>\n      <th></th>\n      <th></th>\n      <th></th>\n      <th></th>\n      <th></th>\n      <th></th>\n      <th></th>\n      <th></th>\n      <th></th>\n      <th></th>\n      <th></th>\n      <th></th>\n    </tr>\n  </thead>\n  <tbody>\n    <tr>\n      <th>02/09/2020</th>\n      <td>37.0</td>\n      <td>0.0</td>\n      <td>0.0</td>\n      <td>0.0</td>\n      <td>0.0</td>\n      <td>0.0</td>\n      <td>0.0</td>\n      <td>0.0</td>\n      <td>0.0</td>\n      <td>0.0</td>\n      <td>0.0</td>\n      <td>0.0</td>\n      <td>0.0</td>\n      <td>0.0</td>\n      <td>0.0</td>\n    </tr>\n    <tr>\n      <th>02/09/2020</th>\n      <td>51.0</td>\n      <td>1.0</td>\n      <td>0.0</td>\n      <td>1.0</td>\n      <td>0.0</td>\n      <td>0.0</td>\n      <td>0.0</td>\n      <td>0.0</td>\n      <td>0.0</td>\n      <td>0.0</td>\n      <td>0.0</td>\n      <td>0.0</td>\n      <td>0.0</td>\n      <td>0.0</td>\n      <td>1.0</td>\n    </tr>\n    <tr>\n      <th>02/09/2020</th>\n      <td>11.0</td>\n      <td>1.0</td>\n      <td>0.0</td>\n      <td>0.0</td>\n      <td>0.0</td>\n      <td>0.0</td>\n      <td>0.0</td>\n      <td>0.0</td>\n      <td>0.0</td>\n      <td>0.0</td>\n      <td>0.0</td>\n      <td>0.0</td>\n      <td>0.0</td>\n      <td>0.0</td>\n      <td>0.0</td>\n    </tr>\n    <tr>\n      <th>02/09/2020</th>\n      <td>65.0</td>\n      <td>1.0</td>\n      <td>0.0</td>\n      <td>1.0</td>\n      <td>1.0</td>\n      <td>0.0</td>\n      <td>0.0</td>\n      <td>0.0</td>\n      <td>0.0</td>\n      <td>0.0</td>\n      <td>0.0</td>\n      <td>0.0</td>\n      <td>0.0</td>\n      <td>1.0</td>\n      <td>0.0</td>\n    </tr>\n    <tr>\n      <th>02/09/2020</th>\n      <td>30.0</td>\n      <td>0.0</td>\n      <td>0.0</td>\n      <td>0.0</td>\n      <td>0.0</td>\n      <td>0.0</td>\n      <td>0.0</td>\n      <td>0.0</td>\n      <td>0.0</td>\n      <td>0.0</td>\n      <td>0.0</td>\n      <td>0.0</td>\n      <td>0.0</td>\n      <td>0.0</td>\n      <td>1.0</td>\n    </tr>\n  </tbody>\n</table>\n</div>"
     },
     "metadata": {},
     "execution_count": 45
    }
   ],
   "source": [
    "best_variables = selector.support_\n",
    "df_no_covid = x\n",
    "df_no_covid.loc[:, best_variables].head()"
   ]
  },
  {
   "cell_type": "code",
   "execution_count": 56,
   "metadata": {},
   "outputs": [
    {
     "output_type": "execute_result",
     "data": {
      "text/plain": [
       "array([ True,  True,  True,  True,  True, False,  True, False,  True,\n",
       "        True, False,  True, False, False, False, False, False,  True,\n",
       "       False, False,  True,  True, False, False, False, False, False,\n",
       "        True, False, False,  True,  True])"
      ]
     },
     "metadata": {},
     "execution_count": 56
    }
   ],
   "source": [
    "best_variables"
   ]
  },
  {
   "cell_type": "code",
   "execution_count": 57,
   "metadata": {
    "tags": []
   },
   "outputs": [
    {
     "output_type": "stream",
     "name": "stdout",
     "text": [
      "[ True  True  True  True  True False  True False  True  True False  True\n False False False False False  True False False  True  True False False\n False False False  True False False  True  True]\n[ 1  1  1  1  1 17  1  7  1  1 16  1 11 18  4 14 13  1 10  6  1  1  2 15\n  3  8  5  1  9 12  1  1]\n"
     ]
    }
   ],
   "source": [
    "print(selector.support_)\n",
    "print(selector.ranking_)"
   ]
  },
  {
   "cell_type": "markdown",
   "metadata": {},
   "source": [
    "# 4. Generating the Logistic regression model and evaluating it"
   ]
  },
  {
   "cell_type": "code",
   "execution_count": 46,
   "metadata": {},
   "outputs": [
    {
     "output_type": "stream",
     "name": "stderr",
     "text": [
      "C:\\Users\\TORIT\\anaconda3\\envs\\Tensorflow\\lib\\site-packages\\sklearn\\utils\\validation.py:63: DataConversionWarning: A column-vector y was passed when a 1d array was expected. Please change the shape of y to (n_samples, ), for example using ravel().\n",
      "  return f(*args, **kwargs)\n",
      "C:\\Users\\TORIT\\anaconda3\\envs\\Tensorflow\\lib\\site-packages\\sklearn\\linear_model\\_logistic.py:763: ConvergenceWarning: lbfgs failed to converge (status=1):\n",
      "STOP: TOTAL NO. of ITERATIONS REACHED LIMIT.\n",
      "\n",
      "Increase the number of iterations (max_iter) or scale the data as shown in:\n",
      "    https://scikit-learn.org/stable/modules/preprocessing.html\n",
      "Please also refer to the documentation for alternative solver options:\n",
      "    https://scikit-learn.org/stable/modules/linear_model.html#logistic-regression\n",
      "  n_iter_i = _check_optimize_result(\n"
     ]
    },
    {
     "output_type": "display_data",
     "data": {
      "text/plain": "<Figure size 720x432 with 1 Axes>",
      "image/svg+xml": "<?xml version=\"1.0\" encoding=\"utf-8\" standalone=\"no\"?>\r\n<!DOCTYPE svg PUBLIC \"-//W3C//DTD SVG 1.1//EN\"\r\n  \"http://www.w3.org/Graphics/SVG/1.1/DTD/svg11.dtd\">\r\n<!-- Created with matplotlib (https://matplotlib.org/) -->\r\n<svg height=\"396.204844pt\" version=\"1.1\" viewBox=\"0 0 615.8225 396.204844\" width=\"615.8225pt\" xmlns=\"http://www.w3.org/2000/svg\" xmlns:xlink=\"http://www.w3.org/1999/xlink\">\r\n <metadata>\r\n  <rdf:RDF xmlns:cc=\"http://creativecommons.org/ns#\" xmlns:dc=\"http://purl.org/dc/elements/1.1/\" xmlns:rdf=\"http://www.w3.org/1999/02/22-rdf-syntax-ns#\">\r\n   <cc:Work>\r\n    <dc:type rdf:resource=\"http://purl.org/dc/dcmitype/StillImage\"/>\r\n    <dc:date>2021-06-09T09:39:17.666730</dc:date>\r\n    <dc:format>image/svg+xml</dc:format>\r\n    <dc:creator>\r\n     <cc:Agent>\r\n      <dc:title>Matplotlib v3.3.4, https://matplotlib.org/</dc:title>\r\n     </cc:Agent>\r\n    </dc:creator>\r\n   </cc:Work>\r\n  </rdf:RDF>\r\n </metadata>\r\n <defs>\r\n  <style type=\"text/css\">*{stroke-linecap:butt;stroke-linejoin:round;}</style>\r\n </defs>\r\n <g id=\"figure_1\">\r\n  <g id=\"patch_1\">\r\n   <path d=\"M 0 396.204844 \r\nL 615.8225 396.204844 \r\nL 615.8225 0 \r\nL 0 0 \r\nz\r\n\" style=\"fill:#ffffff;\"/>\r\n  </g>\r\n  <g id=\"axes_1\">\r\n   <g id=\"patch_2\">\r\n    <path d=\"M 50.6225 350.8125 \r\nL 608.6225 350.8125 \r\nL 608.6225 24.6525 \r\nL 50.6225 24.6525 \r\nz\r\n\" style=\"fill:#eaeaf2;\"/>\r\n   </g>\r\n   <g id=\"matplotlib.axis_1\">\r\n    <g id=\"xtick_1\">\r\n     <g id=\"line2d_1\">\r\n      <path clip-path=\"url(#p589c223452)\" d=\"M 75.986136 350.8125 \r\nL 75.986136 24.6525 \r\n\" style=\"fill:none;stroke:#ffffff;stroke-linecap:round;\"/>\r\n     </g>\r\n     <g id=\"text_1\">\r\n      <!-- 0.0 -->\r\n      <g style=\"fill:#262626;\" transform=\"translate(68.341136 368.186094)scale(0.11 -0.11)\">\r\n       <defs>\r\n        <path d=\"M 4.15625 35.296875 \r\nQ 4.15625 48 6.765625 55.734375 \r\nQ 9.375 63.484375 14.515625 67.671875 \r\nQ 19.671875 71.875 27.484375 71.875 \r\nQ 33.25 71.875 37.59375 69.546875 \r\nQ 41.9375 67.234375 44.765625 62.859375 \r\nQ 47.609375 58.5 49.21875 52.21875 \r\nQ 50.828125 45.953125 50.828125 35.296875 \r\nQ 50.828125 22.703125 48.234375 14.96875 \r\nQ 45.65625 7.234375 40.5 3 \r\nQ 35.359375 -1.21875 27.484375 -1.21875 \r\nQ 17.140625 -1.21875 11.234375 6.203125 \r\nQ 4.15625 15.140625 4.15625 35.296875 \r\nz\r\nM 13.1875 35.296875 \r\nQ 13.1875 17.671875 17.3125 11.828125 \r\nQ 21.4375 6 27.484375 6 \r\nQ 33.546875 6 37.671875 11.859375 \r\nQ 41.796875 17.71875 41.796875 35.296875 \r\nQ 41.796875 52.984375 37.671875 58.78125 \r\nQ 33.546875 64.59375 27.390625 64.59375 \r\nQ 21.34375 64.59375 17.71875 59.46875 \r\nQ 13.1875 52.9375 13.1875 35.296875 \r\nz\r\n\" id=\"ArialMT-48\"/>\r\n        <path d=\"M 9.078125 0 \r\nL 9.078125 10.015625 \r\nL 19.09375 10.015625 \r\nL 19.09375 0 \r\nz\r\n\" id=\"ArialMT-46\"/>\r\n       </defs>\r\n       <use xlink:href=\"#ArialMT-48\"/>\r\n       <use x=\"55.615234\" xlink:href=\"#ArialMT-46\"/>\r\n       <use x=\"83.398438\" xlink:href=\"#ArialMT-48\"/>\r\n      </g>\r\n     </g>\r\n    </g>\r\n    <g id=\"xtick_2\">\r\n     <g id=\"line2d_2\">\r\n      <path clip-path=\"url(#p589c223452)\" d=\"M 177.440682 350.8125 \r\nL 177.440682 24.6525 \r\n\" style=\"fill:none;stroke:#ffffff;stroke-linecap:round;\"/>\r\n     </g>\r\n     <g id=\"text_2\">\r\n      <!-- 0.2 -->\r\n      <g style=\"fill:#262626;\" transform=\"translate(169.795682 368.186094)scale(0.11 -0.11)\">\r\n       <defs>\r\n        <path d=\"M 50.34375 8.453125 \r\nL 50.34375 0 \r\nL 3.03125 0 \r\nQ 2.9375 3.171875 4.046875 6.109375 \r\nQ 5.859375 10.9375 9.828125 15.625 \r\nQ 13.8125 20.3125 21.34375 26.46875 \r\nQ 33.015625 36.03125 37.109375 41.625 \r\nQ 41.21875 47.21875 41.21875 52.203125 \r\nQ 41.21875 57.421875 37.46875 61 \r\nQ 33.734375 64.59375 27.734375 64.59375 \r\nQ 21.390625 64.59375 17.578125 60.78125 \r\nQ 13.765625 56.984375 13.71875 50.25 \r\nL 4.6875 51.171875 \r\nQ 5.609375 61.28125 11.65625 66.578125 \r\nQ 17.71875 71.875 27.9375 71.875 \r\nQ 38.234375 71.875 44.234375 66.15625 \r\nQ 50.25 60.453125 50.25 52 \r\nQ 50.25 47.703125 48.484375 43.546875 \r\nQ 46.734375 39.40625 42.65625 34.8125 \r\nQ 38.578125 30.21875 29.109375 22.21875 \r\nQ 21.1875 15.578125 18.9375 13.203125 \r\nQ 16.703125 10.84375 15.234375 8.453125 \r\nz\r\n\" id=\"ArialMT-50\"/>\r\n       </defs>\r\n       <use xlink:href=\"#ArialMT-48\"/>\r\n       <use x=\"55.615234\" xlink:href=\"#ArialMT-46\"/>\r\n       <use x=\"83.398438\" xlink:href=\"#ArialMT-50\"/>\r\n      </g>\r\n     </g>\r\n    </g>\r\n    <g id=\"xtick_3\">\r\n     <g id=\"line2d_3\">\r\n      <path clip-path=\"url(#p589c223452)\" d=\"M 278.895227 350.8125 \r\nL 278.895227 24.6525 \r\n\" style=\"fill:none;stroke:#ffffff;stroke-linecap:round;\"/>\r\n     </g>\r\n     <g id=\"text_3\">\r\n      <!-- 0.4 -->\r\n      <g style=\"fill:#262626;\" transform=\"translate(271.250227 368.186094)scale(0.11 -0.11)\">\r\n       <defs>\r\n        <path d=\"M 32.328125 0 \r\nL 32.328125 17.140625 \r\nL 1.265625 17.140625 \r\nL 1.265625 25.203125 \r\nL 33.9375 71.578125 \r\nL 41.109375 71.578125 \r\nL 41.109375 25.203125 \r\nL 50.78125 25.203125 \r\nL 50.78125 17.140625 \r\nL 41.109375 17.140625 \r\nL 41.109375 0 \r\nz\r\nM 32.328125 25.203125 \r\nL 32.328125 57.46875 \r\nL 9.90625 25.203125 \r\nz\r\n\" id=\"ArialMT-52\"/>\r\n       </defs>\r\n       <use xlink:href=\"#ArialMT-48\"/>\r\n       <use x=\"55.615234\" xlink:href=\"#ArialMT-46\"/>\r\n       <use x=\"83.398438\" xlink:href=\"#ArialMT-52\"/>\r\n      </g>\r\n     </g>\r\n    </g>\r\n    <g id=\"xtick_4\">\r\n     <g id=\"line2d_4\">\r\n      <path clip-path=\"url(#p589c223452)\" d=\"M 380.349773 350.8125 \r\nL 380.349773 24.6525 \r\n\" style=\"fill:none;stroke:#ffffff;stroke-linecap:round;\"/>\r\n     </g>\r\n     <g id=\"text_4\">\r\n      <!-- 0.6 -->\r\n      <g style=\"fill:#262626;\" transform=\"translate(372.704773 368.186094)scale(0.11 -0.11)\">\r\n       <defs>\r\n        <path d=\"M 49.75 54.046875 \r\nL 41.015625 53.375 \r\nQ 39.84375 58.546875 37.703125 60.890625 \r\nQ 34.125 64.65625 28.90625 64.65625 \r\nQ 24.703125 64.65625 21.53125 62.3125 \r\nQ 17.390625 59.28125 14.984375 53.46875 \r\nQ 12.59375 47.65625 12.5 36.921875 \r\nQ 15.671875 41.75 20.265625 44.09375 \r\nQ 24.859375 46.4375 29.890625 46.4375 \r\nQ 38.671875 46.4375 44.84375 39.96875 \r\nQ 51.03125 33.5 51.03125 23.25 \r\nQ 51.03125 16.5 48.125 10.71875 \r\nQ 45.21875 4.9375 40.140625 1.859375 \r\nQ 35.0625 -1.21875 28.609375 -1.21875 \r\nQ 17.625 -1.21875 10.6875 6.859375 \r\nQ 3.765625 14.9375 3.765625 33.5 \r\nQ 3.765625 54.25 11.421875 63.671875 \r\nQ 18.109375 71.875 29.4375 71.875 \r\nQ 37.890625 71.875 43.28125 67.140625 \r\nQ 48.6875 62.40625 49.75 54.046875 \r\nz\r\nM 13.875 23.1875 \r\nQ 13.875 18.65625 15.796875 14.5 \r\nQ 17.71875 10.359375 21.1875 8.171875 \r\nQ 24.65625 6 28.46875 6 \r\nQ 34.03125 6 38.03125 10.484375 \r\nQ 42.046875 14.984375 42.046875 22.703125 \r\nQ 42.046875 30.125 38.078125 34.390625 \r\nQ 34.125 38.671875 28.125 38.671875 \r\nQ 22.171875 38.671875 18.015625 34.390625 \r\nQ 13.875 30.125 13.875 23.1875 \r\nz\r\n\" id=\"ArialMT-54\"/>\r\n       </defs>\r\n       <use xlink:href=\"#ArialMT-48\"/>\r\n       <use x=\"55.615234\" xlink:href=\"#ArialMT-46\"/>\r\n       <use x=\"83.398438\" xlink:href=\"#ArialMT-54\"/>\r\n      </g>\r\n     </g>\r\n    </g>\r\n    <g id=\"xtick_5\">\r\n     <g id=\"line2d_5\">\r\n      <path clip-path=\"url(#p589c223452)\" d=\"M 481.804318 350.8125 \r\nL 481.804318 24.6525 \r\n\" style=\"fill:none;stroke:#ffffff;stroke-linecap:round;\"/>\r\n     </g>\r\n     <g id=\"text_5\">\r\n      <!-- 0.8 -->\r\n      <g style=\"fill:#262626;\" transform=\"translate(474.159318 368.186094)scale(0.11 -0.11)\">\r\n       <defs>\r\n        <path d=\"M 17.671875 38.8125 \r\nQ 12.203125 40.828125 9.5625 44.53125 \r\nQ 6.9375 48.25 6.9375 53.421875 \r\nQ 6.9375 61.234375 12.546875 66.546875 \r\nQ 18.171875 71.875 27.484375 71.875 \r\nQ 36.859375 71.875 42.578125 66.421875 \r\nQ 48.296875 60.984375 48.296875 53.171875 \r\nQ 48.296875 48.1875 45.671875 44.5 \r\nQ 43.0625 40.828125 37.75 38.8125 \r\nQ 44.34375 36.671875 47.78125 31.875 \r\nQ 51.21875 27.09375 51.21875 20.453125 \r\nQ 51.21875 11.28125 44.71875 5.03125 \r\nQ 38.234375 -1.21875 27.640625 -1.21875 \r\nQ 17.046875 -1.21875 10.546875 5.046875 \r\nQ 4.046875 11.328125 4.046875 20.703125 \r\nQ 4.046875 27.6875 7.59375 32.390625 \r\nQ 11.140625 37.109375 17.671875 38.8125 \r\nz\r\nM 15.921875 53.71875 \r\nQ 15.921875 48.640625 19.1875 45.40625 \r\nQ 22.46875 42.1875 27.6875 42.1875 \r\nQ 32.765625 42.1875 36.015625 45.375 \r\nQ 39.265625 48.578125 39.265625 53.21875 \r\nQ 39.265625 58.0625 35.90625 61.359375 \r\nQ 32.5625 64.65625 27.59375 64.65625 \r\nQ 22.5625 64.65625 19.234375 61.421875 \r\nQ 15.921875 58.203125 15.921875 53.71875 \r\nz\r\nM 13.09375 20.65625 \r\nQ 13.09375 16.890625 14.875 13.375 \r\nQ 16.65625 9.859375 20.171875 7.921875 \r\nQ 23.6875 6 27.734375 6 \r\nQ 34.03125 6 38.125 10.046875 \r\nQ 42.234375 14.109375 42.234375 20.359375 \r\nQ 42.234375 26.703125 38.015625 30.859375 \r\nQ 33.796875 35.015625 27.4375 35.015625 \r\nQ 21.234375 35.015625 17.15625 30.90625 \r\nQ 13.09375 26.8125 13.09375 20.65625 \r\nz\r\n\" id=\"ArialMT-56\"/>\r\n       </defs>\r\n       <use xlink:href=\"#ArialMT-48\"/>\r\n       <use x=\"55.615234\" xlink:href=\"#ArialMT-46\"/>\r\n       <use x=\"83.398438\" xlink:href=\"#ArialMT-56\"/>\r\n      </g>\r\n     </g>\r\n    </g>\r\n    <g id=\"xtick_6\">\r\n     <g id=\"line2d_6\">\r\n      <path clip-path=\"url(#p589c223452)\" d=\"M 583.258864 350.8125 \r\nL 583.258864 24.6525 \r\n\" style=\"fill:none;stroke:#ffffff;stroke-linecap:round;\"/>\r\n     </g>\r\n     <g id=\"text_6\">\r\n      <!-- 1.0 -->\r\n      <g style=\"fill:#262626;\" transform=\"translate(575.613864 368.186094)scale(0.11 -0.11)\">\r\n       <defs>\r\n        <path d=\"M 37.25 0 \r\nL 28.46875 0 \r\nL 28.46875 56 \r\nQ 25.296875 52.984375 20.140625 49.953125 \r\nQ 14.984375 46.921875 10.890625 45.40625 \r\nL 10.890625 53.90625 \r\nQ 18.265625 57.375 23.78125 62.296875 \r\nQ 29.296875 67.234375 31.59375 71.875 \r\nL 37.25 71.875 \r\nz\r\n\" id=\"ArialMT-49\"/>\r\n       </defs>\r\n       <use xlink:href=\"#ArialMT-49\"/>\r\n       <use x=\"55.615234\" xlink:href=\"#ArialMT-46\"/>\r\n       <use x=\"83.398438\" xlink:href=\"#ArialMT-48\"/>\r\n      </g>\r\n     </g>\r\n    </g>\r\n    <g id=\"text_7\">\r\n     <!-- FPR -->\r\n     <g style=\"fill:#262626;\" transform=\"translate(313.6225 385.824844)scale(0.16 -0.16)\">\r\n      <defs>\r\n       <path d=\"M 8.203125 0 \r\nL 8.203125 71.578125 \r\nL 56.5 71.578125 \r\nL 56.5 63.140625 \r\nL 17.671875 63.140625 \r\nL 17.671875 40.96875 \r\nL 51.265625 40.96875 \r\nL 51.265625 32.515625 \r\nL 17.671875 32.515625 \r\nL 17.671875 0 \r\nz\r\n\" id=\"ArialMT-70\"/>\r\n       <path d=\"M 7.71875 0 \r\nL 7.71875 71.578125 \r\nL 34.71875 71.578125 \r\nQ 41.84375 71.578125 45.609375 70.90625 \r\nQ 50.875 70.015625 54.4375 67.546875 \r\nQ 58.015625 65.09375 60.1875 60.640625 \r\nQ 62.359375 56.203125 62.359375 50.875 \r\nQ 62.359375 41.75 56.546875 35.421875 \r\nQ 50.734375 29.109375 35.546875 29.109375 \r\nL 17.1875 29.109375 \r\nL 17.1875 0 \r\nz\r\nM 17.1875 37.546875 \r\nL 35.6875 37.546875 \r\nQ 44.875 37.546875 48.734375 40.96875 \r\nQ 52.59375 44.390625 52.59375 50.59375 \r\nQ 52.59375 55.078125 50.3125 58.265625 \r\nQ 48.046875 61.46875 44.34375 62.5 \r\nQ 41.9375 63.140625 35.5 63.140625 \r\nL 17.1875 63.140625 \r\nz\r\n\" id=\"ArialMT-80\"/>\r\n       <path d=\"M 7.859375 0 \r\nL 7.859375 71.578125 \r\nL 39.59375 71.578125 \r\nQ 49.171875 71.578125 54.140625 69.640625 \r\nQ 59.125 67.71875 62.109375 62.828125 \r\nQ 65.09375 57.953125 65.09375 52.046875 \r\nQ 65.09375 44.4375 60.15625 39.203125 \r\nQ 55.21875 33.984375 44.921875 32.5625 \r\nQ 48.6875 30.765625 50.640625 29 \r\nQ 54.78125 25.203125 58.5 19.484375 \r\nL 70.953125 0 \r\nL 59.03125 0 \r\nL 49.5625 14.890625 \r\nQ 45.40625 21.34375 42.71875 24.75 \r\nQ 40.046875 28.171875 37.921875 29.53125 \r\nQ 35.796875 30.90625 33.59375 31.453125 \r\nQ 31.984375 31.78125 28.328125 31.78125 \r\nL 17.328125 31.78125 \r\nL 17.328125 0 \r\nz\r\nM 17.328125 39.984375 \r\nL 37.703125 39.984375 \r\nQ 44.1875 39.984375 47.84375 41.328125 \r\nQ 51.515625 42.671875 53.421875 45.625 \r\nQ 55.328125 48.578125 55.328125 52.046875 \r\nQ 55.328125 57.125 51.640625 60.390625 \r\nQ 47.953125 63.671875 39.984375 63.671875 \r\nL 17.328125 63.671875 \r\nz\r\n\" id=\"ArialMT-82\"/>\r\n      </defs>\r\n      <use xlink:href=\"#ArialMT-70\"/>\r\n      <use x=\"61.083984\" xlink:href=\"#ArialMT-80\"/>\r\n      <use x=\"127.783203\" xlink:href=\"#ArialMT-82\"/>\r\n     </g>\r\n    </g>\r\n   </g>\r\n   <g id=\"matplotlib.axis_2\">\r\n    <g id=\"ytick_1\">\r\n     <g id=\"line2d_7\">\r\n      <path clip-path=\"url(#p589c223452)\" d=\"M 50.6225 335.987045 \r\nL 608.6225 335.987045 \r\n\" style=\"fill:none;stroke:#ffffff;stroke-linecap:round;\"/>\r\n     </g>\r\n     <g id=\"text_8\">\r\n      <!-- 0.0 -->\r\n      <g style=\"fill:#262626;\" transform=\"translate(25.8325 339.923842)scale(0.11 -0.11)\">\r\n       <use xlink:href=\"#ArialMT-48\"/>\r\n       <use x=\"55.615234\" xlink:href=\"#ArialMT-46\"/>\r\n       <use x=\"83.398438\" xlink:href=\"#ArialMT-48\"/>\r\n      </g>\r\n     </g>\r\n    </g>\r\n    <g id=\"ytick_2\">\r\n     <g id=\"line2d_8\">\r\n      <path clip-path=\"url(#p589c223452)\" d=\"M 50.6225 276.685227 \r\nL 608.6225 276.685227 \r\n\" style=\"fill:none;stroke:#ffffff;stroke-linecap:round;\"/>\r\n     </g>\r\n     <g id=\"text_9\">\r\n      <!-- 0.2 -->\r\n      <g style=\"fill:#262626;\" transform=\"translate(25.8325 280.622024)scale(0.11 -0.11)\">\r\n       <use xlink:href=\"#ArialMT-48\"/>\r\n       <use x=\"55.615234\" xlink:href=\"#ArialMT-46\"/>\r\n       <use x=\"83.398438\" xlink:href=\"#ArialMT-50\"/>\r\n      </g>\r\n     </g>\r\n    </g>\r\n    <g id=\"ytick_3\">\r\n     <g id=\"line2d_9\">\r\n      <path clip-path=\"url(#p589c223452)\" d=\"M 50.6225 217.383409 \r\nL 608.6225 217.383409 \r\n\" style=\"fill:none;stroke:#ffffff;stroke-linecap:round;\"/>\r\n     </g>\r\n     <g id=\"text_10\">\r\n      <!-- 0.4 -->\r\n      <g style=\"fill:#262626;\" transform=\"translate(25.8325 221.320206)scale(0.11 -0.11)\">\r\n       <use xlink:href=\"#ArialMT-48\"/>\r\n       <use x=\"55.615234\" xlink:href=\"#ArialMT-46\"/>\r\n       <use x=\"83.398438\" xlink:href=\"#ArialMT-52\"/>\r\n      </g>\r\n     </g>\r\n    </g>\r\n    <g id=\"ytick_4\">\r\n     <g id=\"line2d_10\">\r\n      <path clip-path=\"url(#p589c223452)\" d=\"M 50.6225 158.081591 \r\nL 608.6225 158.081591 \r\n\" style=\"fill:none;stroke:#ffffff;stroke-linecap:round;\"/>\r\n     </g>\r\n     <g id=\"text_11\">\r\n      <!-- 0.6 -->\r\n      <g style=\"fill:#262626;\" transform=\"translate(25.8325 162.018388)scale(0.11 -0.11)\">\r\n       <use xlink:href=\"#ArialMT-48\"/>\r\n       <use x=\"55.615234\" xlink:href=\"#ArialMT-46\"/>\r\n       <use x=\"83.398438\" xlink:href=\"#ArialMT-54\"/>\r\n      </g>\r\n     </g>\r\n    </g>\r\n    <g id=\"ytick_5\">\r\n     <g id=\"line2d_11\">\r\n      <path clip-path=\"url(#p589c223452)\" d=\"M 50.6225 98.779773 \r\nL 608.6225 98.779773 \r\n\" style=\"fill:none;stroke:#ffffff;stroke-linecap:round;\"/>\r\n     </g>\r\n     <g id=\"text_12\">\r\n      <!-- 0.8 -->\r\n      <g style=\"fill:#262626;\" transform=\"translate(25.8325 102.71657)scale(0.11 -0.11)\">\r\n       <use xlink:href=\"#ArialMT-48\"/>\r\n       <use x=\"55.615234\" xlink:href=\"#ArialMT-46\"/>\r\n       <use x=\"83.398438\" xlink:href=\"#ArialMT-56\"/>\r\n      </g>\r\n     </g>\r\n    </g>\r\n    <g id=\"ytick_6\">\r\n     <g id=\"line2d_12\">\r\n      <path clip-path=\"url(#p589c223452)\" d=\"M 50.6225 39.477955 \r\nL 608.6225 39.477955 \r\n\" style=\"fill:none;stroke:#ffffff;stroke-linecap:round;\"/>\r\n     </g>\r\n     <g id=\"text_13\">\r\n      <!-- 1.0 -->\r\n      <g style=\"fill:#262626;\" transform=\"translate(25.8325 43.414751)scale(0.11 -0.11)\">\r\n       <use xlink:href=\"#ArialMT-49\"/>\r\n       <use x=\"55.615234\" xlink:href=\"#ArialMT-46\"/>\r\n       <use x=\"83.398438\" xlink:href=\"#ArialMT-48\"/>\r\n      </g>\r\n     </g>\r\n    </g>\r\n    <g id=\"text_14\">\r\n     <!-- TPR -->\r\n     <g style=\"fill:#262626;\" transform=\"translate(18.6525 203.7325)rotate(-90)scale(0.16 -0.16)\">\r\n      <defs>\r\n       <path d=\"M 25.921875 0 \r\nL 25.921875 63.140625 \r\nL 2.34375 63.140625 \r\nL 2.34375 71.578125 \r\nL 59.078125 71.578125 \r\nL 59.078125 63.140625 \r\nL 35.40625 63.140625 \r\nL 35.40625 0 \r\nz\r\n\" id=\"ArialMT-84\"/>\r\n      </defs>\r\n      <use xlink:href=\"#ArialMT-84\"/>\r\n      <use x=\"61.083984\" xlink:href=\"#ArialMT-80\"/>\r\n      <use x=\"127.783203\" xlink:href=\"#ArialMT-82\"/>\r\n     </g>\r\n    </g>\r\n   </g>\r\n   <g id=\"line2d_13\">\r\n    <path clip-path=\"url(#p589c223452)\" d=\"M 75.986136 335.987045 \r\nL 583.258864 39.477955 \r\n\" style=\"fill:none;stroke:#c44e52;stroke-dasharray:5.55,2.4;stroke-dashoffset:0;stroke-width:1.5;\"/>\r\n   </g>\r\n   <g id=\"line2d_14\">\r\n    <path clip-path=\"url(#p589c223452)\" d=\"M 75.986136 335.987045 \r\nL 76.029004 334.988358 \r\nL 76.136173 332.662301 \r\nL 76.157606 332.662301 \r\nL 76.200474 331.549838 \r\nL 76.35051 331.221156 \r\nL 76.457679 328.844533 \r\nL 76.479113 328.768683 \r\nL 76.586282 314.319317 \r\nL 76.629149 313.87686 \r\nL 76.736318 301.842042 \r\nL 76.972089 282.487729 \r\nL 77.057824 277.519574 \r\nL 77.079258 277.519574 \r\nL 77.164993 276.268054 \r\nL 77.657969 251.616904 \r\nL 77.808006 249.442546 \r\nL 77.850873 247.255546 \r\nL 78.043777 246.560258 \r\nL 78.150946 240.70719 \r\nL 78.665356 227.40821 \r\nL 78.708224 227.345002 \r\nL 78.793959 225.853291 \r\nL 78.836826 225.739517 \r\nL 78.943995 223.249119 \r\nL 78.965429 223.249119 \r\nL 78.965429 223.160627 \r\nL 79.072597 220.619663 \r\nL 79.094031 220.619663 \r\nL 79.094031 220.556455 \r\nL 79.158332 220.025507 \r\nL 79.265501 218.508513 \r\nL 79.308369 218.432663 \r\nL 79.415537 215.461884 \r\nL 79.458405 215.234334 \r\nL 79.54414 213.312809 \r\nL 80.165719 199.369107 \r\nL 80.358623 197.687772 \r\nL 80.465792 196.866067 \r\nL 81.280274 187.625046 \r\nL 81.301708 187.625046 \r\nL 81.301708 187.612405 \r\nL 81.473178 185.450688 \r\nL 81.666082 183.402747 \r\nL 81.687516 183.402747 \r\nL 81.687516 183.301614 \r\nL 81.794685 182.366134 \r\nL 81.837552 182.227076 \r\nL 81.901853 181.948961 \r\nL 82.266227 179.483846 \r\nL 82.459131 176.336084 \r\nL 82.501998 176.336084 \r\nL 82.501998 176.260234 \r\nL 82.5663 176.007402 \r\nL 82.823505 175.805136 \r\nL 82.930674 174.907581 \r\nL 82.973541 174.806448 \r\nL 83.016409 174.452483 \r\nL 83.187879 173.807761 \r\nL 83.337915 172.164351 \r\nL 83.959494 166.91808 \r\nL 84.002361 166.753739 \r\nL 84.388169 163.214087 \r\nL 84.431037 163.214087 \r\nL 84.431037 163.16352 \r\nL 84.516772 162.468231 \r\nL 84.645374 162.367099 \r\nL 84.731109 161.709735 \r\nL 85.074049 159.333111 \r\nL 85.095483 159.181411 \r\nL 85.309821 157.639134 \r\nL 85.416989 157.474793 \r\nL 85.438423 157.474793 \r\nL 85.438423 157.44951 \r\nL 85.58846 156.678372 \r\nL 85.631327 156.678372 \r\nL 85.631327 156.58988 \r\nL 85.738496 155.818742 \r\nL 86.338641 152.481355 \r\nL 86.402942 151.760783 \r\nL 87.238859 147.348859 \r\nL 87.517498 146.691495 \r\nL 87.538931 146.628287 \r\nL 87.731835 146.223756 \r\nL 87.924739 144.517138 \r\nL 87.946173 144.517138 \r\nL 87.946173 144.428646 \r\nL 88.053342 144.087323 \r\nL 88.16051 143.581658 \r\nL 88.482017 142.570329 \r\nL 88.589185 142.304855 \r\nL 88.632053 142.127872 \r\nL 91.118369 133.594782 \r\nL 91.18267 133.556857 \r\nL 91.18267 133.518932 \r\nL 91.289839 133.025909 \r\nL 91.332706 132.87421 \r\nL 91.418441 132.621377 \r\nL 91.461309 132.621377 \r\nL 91.461309 132.596094 \r\nL 91.568478 131.837597 \r\nL 91.589911 131.837597 \r\nL 91.739948 131.47099 \r\nL 92.018587 130.459661 \r\nL 92.254358 130.168904 \r\nL 92.361527 129.840222 \r\nL 92.575864 129.208141 \r\nL 92.597298 129.208141 \r\nL 92.597298 129.11965 \r\nL 92.597298 128.980592 \r\nL 92.790202 128.563419 \r\nL 93.947625 125.933963 \r\nL 94.333432 124.669801 \r\nL 94.419167 124.606593 \r\nL 94.419167 124.58131 \r\nL 96.048133 121.901287 \r\nL 96.091 121.876004 \r\nL 96.433941 120.9026 \r\nL 96.626844 120.801467 \r\nL 97.312725 119.57523 \r\nL 97.612797 118.336352 \r\nL 97.719966 118.298427 \r\nL 97.719966 118.285785 \r\nL 97.762833 118.159369 \r\nL 98.212942 117.299739 \r\nL 98.641618 116.971057 \r\nL 98.813088 116.566526 \r\nL 99.005991 116.338977 \r\nL 99.198895 116.060861 \r\nL 99.28463 116.022936 \r\nL 100.056245 114.948399 \r\nL 100.292017 114.771416 \r\nL 100.399186 114.215185 \r\nL 100.420619 114.215185 \r\nL 100.420619 114.164619 \r\nL 100.613523 113.823295 \r\nL 101.085066 112.68555 \r\nL 101.299403 112.432717 \r\nL 101.385138 112.356868 \r\nL 101.535175 112.255735 \r\nL 101.535175 112.205168 \r\nL 101.556608 112.205168 \r\nL 102.006717 111.193839 \r\nL 102.113886 111.105348 \r\nL 102.178187 111.004215 \r\nL 102.392525 110.523834 \r\nL 102.885501 110.207793 \r\nL 102.949803 110.018169 \r\nL 103.249875 109.436655 \r\nL 103.742852 109.00684 \r\nL 105.650456 106.03606 \r\nL 105.779059 105.934927 \r\nL 105.886227 105.859077 \r\nL 106.164866 105.631528 \r\nL 106.229168 105.467187 \r\nL 106.464939 104.974164 \r\nL 106.507806 104.923598 \r\nL 106.507806 104.910956 \r\nL 106.614975 104.771898 \r\nL 106.786445 104.380008 \r\nL 107.515193 103.53302 \r\nL 107.579494 103.482454 \r\nL 107.579494 103.431887 \r\nL 108.565447 101.611495 \r\nL 108.715483 101.510362 \r\nL 108.886953 101.295454 \r\nL 108.994122 101.169038 \r\nL 109.015556 101.156396 \r\nL 109.787171 100.284125 \r\nL 109.89434 100.17035 \r\nL 110.430184 99.689969 \r\nL 110.558786 99.588836 \r\nL 110.665955 99.411854 \r\nL 110.708823 99.399212 \r\nL 110.708823 99.323362 \r\nL 110.966028 99.14638 \r\nL 111.330402 98.489016 \r\nL 111.609041 98.387883 \r\nL 111.694776 98.324675 \r\nL 111.780511 98.236183 \r\nL 111.780511 98.223542 \r\nL 114.695502 95.492953 \r\nL 114.866972 95.417103 \r\nL 115.381382 94.342566 \r\nL 115.509984 94.266716 \r\nL 116.367335 93.723127 \r\nL 116.388768 93.697843 \r\nL 116.645973 93.571427 \r\nL 117.031781 93.35652 \r\nL 117.13895 93.242745 \r\nL 117.931999 92.648589 \r\nL 118.039168 92.547456 \r\nL 118.210638 92.446323 \r\nL 118.575012 92.117641 \r\nL 118.85365 91.788959 \r\nL 120.50405 90.714422 \r\nL 121.297099 90.031775 \r\nL 121.382834 89.943284 \r\nL 121.425701 89.905359 \r\nL 121.768641 89.791584 \r\nL 121.918678 89.551393 \r\nL 122.154449 89.412336 \r\nL 122.240184 89.260636 \r\nL 122.56169 89.13422 \r\nL 123.204703 88.691764 \r\nL 123.311872 88.679122 \r\nL 123.311872 88.66648 \r\nL 123.504776 88.514781 \r\nL 123.761981 88.413648 \r\nL 124.619331 88.021758 \r\nL 124.983705 87.920625 \r\nL 125.026572 87.8827 \r\nL 125.305211 87.731001 \r\nL 125.369513 87.731001 \r\nL 126.055393 87.263261 \r\nL 126.376899 87.17477 \r\nL 126.591237 87.010429 \r\nL 129.97777 85.13947 \r\nL 130.106373 85.06362 \r\nL 130.213542 84.911921 \r\nL 130.856554 84.570597 \r\nL 132.056845 84.102857 \r\nL 132.571255 83.913233 \r\nL 132.82846 83.824742 \r\nL 132.82846 83.8121 \r\nL 133.900148 83.217944 \r\nL 133.985883 83.10417 \r\nL 135.571981 82.370956 \r\nL 136.257861 81.941141 \r\nL 136.815139 81.726233 \r\nL 137.243814 81.599817 \r\nL 137.822525 81.397551 \r\nL 138.915647 80.853962 \r\nL 138.915647 80.828679 \r\nL 139.815865 80.360939 \r\nL 139.837299 80.323014 \r\nL 139.858732 80.323014 \r\nL 139.987335 80.183956 \r\nL 140.523179 80.082823 \r\nL 144.145484 78.578471 \r\nL 145.067135 78.123373 \r\nL 145.560112 77.933749 \r\nL 147.231945 77.415443 \r\nL 148.51797 76.985628 \r\nL 148.710874 76.859211 \r\nL 149.482489 76.758079 \r\nL 150.447008 76.214489 \r\nL 151.218623 75.98694 \r\nL 151.304359 75.936374 \r\nL 151.647299 75.835241 \r\nL 152.376046 75.645616 \r\nL 152.376046 75.632975 \r\nL 152.418914 75.632975 \r\nL 153.619204 75.241085 \r\nL 153.790674 75.165235 \r\nL 156.898569 74.014848 \r\nL 158.27033 73.433334 \r\nL 158.506101 73.40805 \r\nL 158.506101 73.395409 \r\nL 158.827607 73.256351 \r\nL 159.063379 73.205785 \r\nL 160.135066 72.902386 \r\nL 162.021237 72.472571 \r\nL 162.364177 72.30823 \r\nL 163.35013 72.105964 \r\nL 163.392997 72.055398 \r\nL 164.164613 71.853132 \r\nL 165.772144 71.499167 \r\nL 166.693796 71.309542 \r\nL 168.322762 70.905011 \r\nL 168.365629 70.841803 \r\nL 169.373016 70.614253 \r\nL 169.415883 70.576329 \r\nL 172.888152 69.640849 \r\nL 173.981273 69.48915 \r\nL 174.174177 69.33745 \r\nL 174.624286 69.274242 \r\nL 174.624286 69.248959 \r\nL 174.731455 69.198393 \r\nL 175.181564 69.071976 \r\nL 175.181564 69.046693 \r\nL 175.245865 69.046693 \r\nL 182.790548 67.479133 \r\nL 183.176355 67.365358 \r\nL 186.027045 66.83441 \r\nL 186.027045 66.821769 \r\nL 187.227335 66.632145 \r\nL 187.720312 66.556295 \r\nL 188.084686 66.467804 \r\nL 188.084686 66.455162 \r\nL 192.114232 65.772515 \r\nL 192.199967 65.721948 \r\nL 192.221401 65.721948 \r\nL 192.307136 65.709307 \r\nL 193.978969 65.3427 \r\nL 194.621981 65.165717 \r\nL 195.607934 64.976093 \r\nL 196.508152 64.824394 \r\nL 197.129731 64.723261 \r\nL 197.129731 64.697977 \r\nL 197.151165 64.697977 \r\nL 203.088315 63.686648 \r\nL 204.931619 63.256833 \r\nL 205.360294 63.1557 \r\nL 206.003306 63.067209 \r\nL 206.817789 62.978718 \r\nL 206.989259 62.902868 \r\nL 209.111201 62.52362 \r\nL 209.239804 62.435128 \r\nL 209.968551 62.359279 \r\nL 212.562036 61.992672 \r\nL 213.290784 61.90418 \r\nL 214.1267 61.790406 \r\nL 216.12004 61.701915 \r\nL 219.99955 61.082475 \r\nL 221.328443 60.905493 \r\nL 221.392744 60.88021 \r\nL 226.944087 60.172279 \r\nL 230.502091 59.818314 \r\nL 230.609259 59.780389 \r\nL 231.273706 59.717181 \r\nL 232.816936 59.439065 \r\nL 233.738588 59.350574 \r\nL 234.252998 59.300008 \r\nL 234.83171 59.198875 \r\nL 234.853143 59.148308 \r\nL 234.938878 59.148308 \r\nL 235.539024 59.059817 \r\nL 235.667626 58.983967 \r\nL 236.439241 58.933401 \r\nL 241.711946 58.276037 \r\nL 243.340911 58.073771 \r\nL 244.198261 57.972638 \r\nL 244.30543 57.934713 \r\nL 245.441419 57.83358 \r\nL 246.234468 57.757731 \r\nL 246.748879 57.656598 \r\nL 252.085884 57.138291 \r\nL 252.171619 57.075083 \r\nL 253.136138 56.910742 \r\nL 255.236646 56.809609 \r\nL 256.887046 56.695835 \r\nL 258.151637 56.619985 \r\nL 259.802037 56.455644 \r\nL 261.023761 56.202812 \r\nL 262.009713 56.101679 \r\nL 263.210004 55.975263 \r\nL 266.21073 55.633939 \r\nL 266.875176 55.570731 \r\nL 267.839695 55.419032 \r\nL 270.797554 55.166199 \r\nL 270.861855 55.128275 \r\nL 270.883289 55.128275 \r\nL 271.612037 55.027142 \r\nL 272.212182 54.963933 \r\nL 273.905449 54.862801 \r\nL 274.65563 54.723743 \r\nL 278.277935 54.357136 \r\nL 278.342236 54.344494 \r\nL 279.413924 54.243361 \r\nL 281.278661 54.142228 \r\nL 281.278661 54.129587 \r\nL 283.400603 53.927321 \r\nL 283.614941 53.876755 \r\nL 284.386556 53.750338 \r\nL 285.543979 53.649205 \r\nL 288.030295 53.434298 \r\nL 289.552091 53.333165 \r\nL 305.884614 52.031079 \r\nL 308.585267 51.816171 \r\nL 309.163979 51.740322 \r\nL 309.163979 51.72768 \r\nL 313.515032 51.348431 \r\nL 313.600767 51.323148 \r\nL 314.565286 51.209374 \r\nL 314.886792 51.18409 \r\nL 316.451456 51.045033 \r\nL 317.415975 50.956541 \r\nL 318.80917 50.817484 \r\nL 319.816556 50.716351 \r\nL 332.291003 49.69238 \r\nL 334.67015 49.61653 \r\nL 336.341983 49.388981 \r\nL 340.757337 49.110866 \r\nL 342.900712 49.022374 \r\nL 344.958353 48.933883 \r\nL 347.466103 48.845392 \r\nL 347.466103 48.820108 \r\nL 349.973852 48.718975 \r\nL 349.973852 48.706334 \r\nL 350.059587 48.706334 \r\nL 351.645685 48.605201 \r\nL 357.411366 48.289161 \r\nL 358.697391 48.188028 \r\nL 359.254669 48.12482 \r\nL 360.562128 48.023687 \r\nL 362.041057 47.909912 \r\nL 363.862927 47.808779 \r\nL 363.862927 47.796138 \r\nL 365.19182 47.707646 \r\nL 365.19182 47.695005 \r\nL 365.320422 47.669721 \r\nL 366.39211 47.568588 \r\nL 366.73505 47.555947 \r\nL 367.913907 47.454814 \r\nL 371.429043 47.18934 \r\nL 371.664814 47.176698 \r\nL 373.058009 47.075565 \r\nL 373.358081 47.024999 \r\nL 375.951566 46.923866 \r\nL 375.951566 46.898583 \r\nL 375.973 46.898583 \r\nL 377.280459 46.784808 \r\nL 379.402401 46.683675 \r\nL 380.216883 46.633109 \r\nL 382.338825 46.531976 \r\nL 385.296684 46.392918 \r\nL 386.754179 46.291785 \r\nL 387.032818 46.25386 \r\nL 389.947809 46.152728 \r\nL 391.876847 46.01367 \r\nL 395.177646 45.93782 \r\nL 396.74231 45.824046 \r\nL 399.571566 45.722913 \r\nL 399.571566 45.710271 \r\nL 399.657301 45.710271 \r\nL 401.522038 45.609138 \r\nL 410.459915 45.191965 \r\nL 412.281784 45.090832 \r\nL 417.275849 44.939132 \r\nL 417.897428 44.875924 \r\nL 419.67643 44.774791 \r\nL 439.202583 43.712896 \r\nL 441.453127 43.611763 \r\nL 441.667465 43.58648 \r\nL 443.510768 43.485347 \r\nL 445.418372 43.409497 \r\nL 446.275723 43.308364 \r\nL 446.66153 43.257798 \r\nL 456.178118 42.891191 \r\nL 456.178118 42.865907 \r\nL 456.199552 42.865907 \r\nL 459.093109 42.764775 \r\nL 459.157411 42.752133 \r\nL 467.323672 42.461376 \r\nL 484.813618 41.778729 \r\nL 488.414489 41.677596 \r\nL 492.87271 41.513255 \r\nL 495.316159 41.412122 \r\nL 495.316159 41.39948 \r\nL 495.423327 41.39948 \r\nL 498.74556 41.310989 \r\nL 501.467647 41.247781 \r\nL 505.025651 41.146648 \r\nL 505.775832 41.108723 \r\nL 524.508936 40.666266 \r\nL 531.989317 40.565133 \r\nL 531.989317 40.552492 \r\nL 536.983382 40.451359 \r\nL 540.648555 40.388151 \r\nL 545.556885 40.287018 \r\nL 563.754145 39.844561 \r\nL 570.548646 39.743428 \r\nL 570.720116 39.730787 \r\nL 576.485796 39.629654 \r\nL 579.657992 39.591729 \r\nL 582.294345 39.490596 \r\nL 582.315778 39.477955 \r\nL 582.358646 39.477955 \r\nL 583.258864 39.477955 \r\nL 583.258864 39.477955 \r\n\" style=\"fill:none;stroke:#55a868;stroke-linecap:round;stroke-width:4;\"/>\r\n   </g>\r\n   <g id=\"patch_3\">\r\n    <path d=\"M 50.6225 350.8125 \r\nL 50.6225 24.6525 \r\n\" style=\"fill:none;stroke:#ffffff;stroke-linecap:square;stroke-linejoin:miter;stroke-width:1.25;\"/>\r\n   </g>\r\n   <g id=\"patch_4\">\r\n    <path d=\"M 608.6225 350.8125 \r\nL 608.6225 24.6525 \r\n\" style=\"fill:none;stroke:#ffffff;stroke-linecap:square;stroke-linejoin:miter;stroke-width:1.25;\"/>\r\n   </g>\r\n   <g id=\"patch_5\">\r\n    <path d=\"M 50.6225 350.8125 \r\nL 608.6225 350.8125 \r\n\" style=\"fill:none;stroke:#ffffff;stroke-linecap:square;stroke-linejoin:miter;stroke-width:1.25;\"/>\r\n   </g>\r\n   <g id=\"patch_6\">\r\n    <path d=\"M 50.6225 24.6525 \r\nL 608.6225 24.6525 \r\n\" style=\"fill:none;stroke:#ffffff;stroke-linecap:square;stroke-linejoin:miter;stroke-width:1.25;\"/>\r\n   </g>\r\n   <g id=\"text_15\">\r\n    <!-- ROC -->\r\n    <g style=\"fill:#262626;\" transform=\"translate(311.845 18.6525)scale(0.16 -0.16)\">\r\n     <defs>\r\n      <path d=\"M 4.828125 34.859375 \r\nQ 4.828125 52.6875 14.390625 62.765625 \r\nQ 23.96875 72.859375 39.109375 72.859375 \r\nQ 49.03125 72.859375 56.984375 68.109375 \r\nQ 64.9375 63.375 69.109375 54.90625 \r\nQ 73.296875 46.4375 73.296875 35.6875 \r\nQ 73.296875 24.8125 68.890625 16.21875 \r\nQ 64.5 7.625 56.4375 3.203125 \r\nQ 48.390625 -1.21875 39.0625 -1.21875 \r\nQ 28.953125 -1.21875 20.984375 3.65625 \r\nQ 13.03125 8.546875 8.921875 16.984375 \r\nQ 4.828125 25.4375 4.828125 34.859375 \r\nz\r\nM 14.59375 34.71875 \r\nQ 14.59375 21.78125 21.546875 14.328125 \r\nQ 28.515625 6.890625 39.015625 6.890625 \r\nQ 49.703125 6.890625 56.609375 14.40625 \r\nQ 63.53125 21.921875 63.53125 35.75 \r\nQ 63.53125 44.484375 60.578125 51 \r\nQ 57.625 57.515625 51.921875 61.109375 \r\nQ 46.234375 64.703125 39.15625 64.703125 \r\nQ 29.109375 64.703125 21.84375 57.78125 \r\nQ 14.59375 50.875 14.59375 34.71875 \r\nz\r\n\" id=\"ArialMT-79\"/>\r\n      <path d=\"M 58.796875 25.09375 \r\nL 68.265625 22.703125 \r\nQ 65.28125 11.03125 57.546875 4.90625 \r\nQ 49.8125 -1.21875 38.625 -1.21875 \r\nQ 27.046875 -1.21875 19.796875 3.484375 \r\nQ 12.546875 8.203125 8.765625 17.140625 \r\nQ 4.984375 26.078125 4.984375 36.328125 \r\nQ 4.984375 47.515625 9.25 55.828125 \r\nQ 13.53125 64.15625 21.40625 68.46875 \r\nQ 29.296875 72.796875 38.765625 72.796875 \r\nQ 49.515625 72.796875 56.828125 67.328125 \r\nQ 64.15625 61.859375 67.046875 51.953125 \r\nL 57.71875 49.75 \r\nQ 55.21875 57.5625 50.484375 61.125 \r\nQ 45.75 64.703125 38.578125 64.703125 \r\nQ 30.328125 64.703125 24.78125 60.734375 \r\nQ 19.234375 56.78125 16.984375 50.109375 \r\nQ 14.75 43.453125 14.75 36.375 \r\nQ 14.75 27.25 17.40625 20.4375 \r\nQ 20.0625 13.625 25.671875 10.25 \r\nQ 31.296875 6.890625 37.84375 6.890625 \r\nQ 45.796875 6.890625 51.3125 11.46875 \r\nQ 56.84375 16.0625 58.796875 25.09375 \r\nz\r\n\" id=\"ArialMT-67\"/>\r\n     </defs>\r\n     <use xlink:href=\"#ArialMT-82\"/>\r\n     <use x=\"72.216797\" xlink:href=\"#ArialMT-79\"/>\r\n     <use x=\"150\" xlink:href=\"#ArialMT-67\"/>\r\n    </g>\r\n   </g>\r\n   <g id=\"legend_1\">\r\n    <g id=\"patch_7\">\r\n     <path d=\"M 58.3225 49.012344 \r\nL 144.266875 49.012344 \r\nQ 146.466875 49.012344 146.466875 46.812344 \r\nL 146.466875 32.3525 \r\nQ 146.466875 30.1525 144.266875 30.1525 \r\nL 58.3225 30.1525 \r\nQ 56.1225 30.1525 56.1225 32.3525 \r\nL 56.1225 46.812344 \r\nQ 56.1225 49.012344 58.3225 49.012344 \r\nz\r\n\" style=\"fill:#eaeaf2;opacity:0.8;stroke:#cccccc;stroke-linejoin:miter;\"/>\r\n    </g>\r\n    <g id=\"line2d_15\">\r\n     <path d=\"M 60.5225 38.576094 \r\nL 82.5225 38.576094 \r\n\" style=\"fill:none;stroke:#55a868;stroke-linecap:round;stroke-width:4;\"/>\r\n    </g>\r\n    <g id=\"line2d_16\"/>\r\n    <g id=\"text_16\">\r\n     <!-- AUC: 0.87 -->\r\n     <g style=\"fill:#262626;\" transform=\"translate(91.3225 42.426094)scale(0.11 -0.11)\">\r\n      <defs>\r\n       <path d=\"M -0.140625 0 \r\nL 27.34375 71.578125 \r\nL 37.546875 71.578125 \r\nL 66.84375 0 \r\nL 56.0625 0 \r\nL 47.703125 21.6875 \r\nL 17.78125 21.6875 \r\nL 9.90625 0 \r\nz\r\nM 20.515625 29.390625 \r\nL 44.78125 29.390625 \r\nL 37.3125 49.21875 \r\nQ 33.890625 58.25 32.234375 64.0625 \r\nQ 30.859375 57.171875 28.375 50.390625 \r\nz\r\n\" id=\"ArialMT-65\"/>\r\n       <path d=\"M 54.6875 71.578125 \r\nL 64.15625 71.578125 \r\nL 64.15625 30.21875 \r\nQ 64.15625 19.4375 61.71875 13.078125 \r\nQ 59.28125 6.734375 52.90625 2.75 \r\nQ 46.53125 -1.21875 36.1875 -1.21875 \r\nQ 26.125 -1.21875 19.71875 2.25 \r\nQ 13.328125 5.71875 10.59375 12.28125 \r\nQ 7.859375 18.84375 7.859375 30.21875 \r\nL 7.859375 71.578125 \r\nL 17.328125 71.578125 \r\nL 17.328125 30.28125 \r\nQ 17.328125 20.953125 19.0625 16.53125 \r\nQ 20.796875 12.109375 25.015625 9.71875 \r\nQ 29.25 7.328125 35.359375 7.328125 \r\nQ 45.796875 7.328125 50.234375 12.0625 \r\nQ 54.6875 16.796875 54.6875 30.28125 \r\nz\r\n\" id=\"ArialMT-85\"/>\r\n       <path d=\"M 9.03125 41.84375 \r\nL 9.03125 51.859375 \r\nL 19.046875 51.859375 \r\nL 19.046875 41.84375 \r\nz\r\nM 9.03125 0 \r\nL 9.03125 10.015625 \r\nL 19.046875 10.015625 \r\nL 19.046875 0 \r\nz\r\n\" id=\"ArialMT-58\"/>\r\n       <path id=\"ArialMT-32\"/>\r\n       <path d=\"M 4.734375 62.203125 \r\nL 4.734375 70.65625 \r\nL 51.078125 70.65625 \r\nL 51.078125 63.8125 \r\nQ 44.234375 56.546875 37.515625 44.484375 \r\nQ 30.8125 32.421875 27.15625 19.671875 \r\nQ 24.515625 10.6875 23.78125 0 \r\nL 14.75 0 \r\nQ 14.890625 8.453125 18.0625 20.40625 \r\nQ 21.234375 32.375 27.171875 43.484375 \r\nQ 33.109375 54.59375 39.796875 62.203125 \r\nz\r\n\" id=\"ArialMT-55\"/>\r\n      </defs>\r\n      <use xlink:href=\"#ArialMT-65\"/>\r\n      <use x=\"66.699219\" xlink:href=\"#ArialMT-85\"/>\r\n      <use x=\"138.916016\" xlink:href=\"#ArialMT-67\"/>\r\n      <use x=\"211.132812\" xlink:href=\"#ArialMT-58\"/>\r\n      <use x=\"238.916016\" xlink:href=\"#ArialMT-32\"/>\r\n      <use x=\"266.699219\" xlink:href=\"#ArialMT-48\"/>\r\n      <use x=\"322.314453\" xlink:href=\"#ArialMT-46\"/>\r\n      <use x=\"350.097656\" xlink:href=\"#ArialMT-56\"/>\r\n      <use x=\"405.712891\" xlink:href=\"#ArialMT-55\"/>\r\n     </g>\r\n    </g>\r\n   </g>\r\n  </g>\r\n </g>\r\n <defs>\r\n  <clipPath id=\"p589c223452\">\r\n   <rect height=\"326.16\" width=\"558\" x=\"50.6225\" y=\"24.6525\"/>\r\n  </clipPath>\r\n </defs>\r\n</svg>\r\n",
      "image/png": "[encoded data removed]"
     },
     "metadata": {}
    }
   ],
   "source": [
    "from sklearn.metrics import roc_curve, roc_auc_score\n",
    "# Ejercicio\n",
    "\n",
    "# En esta parte está diciendo que de los datos tome 2 variables para x que van a predecir a y\n",
    "X = x[['EDAD','OTRO_CASO_NO ESPECIFICADO','RESULTADO_POSITIVO COVID', 'DIABETES_SI', 'NEUMONIA_SI','OTRO_CASO_SI','RESULTADO_POSITIVO COVID','CARDIOVASCULAR_SI','HIPERTENSION_SI','INMUSUPR_SI','OTRA_COM_SI','RESULTADO_Resultado Pendiente','TABAQUISMO_SI','ASMA_SI','OBESIDAD_SI']]\n",
    "y = y\n",
    "\n",
    "# Hacemos un split de los datos en conjunto de entrenamiento y conjunto de prueba\n",
    "X_train, X_test, y_train, y_test = train_test_split(\n",
    "    X, y, test_size=0.3, random_state=101)\n",
    "\n",
    "# Se hace el ajuste y se calculan las variables de salida para entrenamiento y para prueba\n",
    "clf = LogisticRegression(solver='lbfgs').fit(X_train, y_train)\n",
    "y_train_hat = clf.predict(X_train)\n",
    "y_test_hat = clf.predict(X_test)\n",
    "\n",
    "# Se genera la figura en blanco de 0 a 1\n",
    "plt.figure(figsize = (10, 6))\n",
    "plt.plot([0,1], [0,1], 'r--')\n",
    "\n",
    "# Se genera la grafica ROC y sus probabilidades así como los datos de la grafica\n",
    "probs = clf.predict_proba(X_test)\n",
    "probs = probs[:, 1]\n",
    "fpr, tpr, thresholds = roc_curve(y_test,probs)\n",
    "roc_auc = roc_auc_score(y_test, y_test_hat)\n",
    "label = 'AUC:' + ' {0:.2f}'.format(roc_auc)\n",
    "plt.plot(fpr, tpr, c = 'g', label = label, linewidth = 4)\n",
    "plt.xlabel('FPR', fontsize = 16)\n",
    "plt.ylabel('TPR', fontsize = 16)\n",
    "plt.title('ROC', fontsize = 16)\n",
    "plt.legend();\n",
    "plt.savefig('ROC.pdf')"
   ]
  },
  {
   "source": [
    "### Making a classification report"
   ],
   "cell_type": "markdown",
   "metadata": {}
  },
  {
   "cell_type": "code",
   "execution_count": 49,
   "metadata": {
    "tags": []
   },
   "outputs": [
    {
     "output_type": "stream",
     "name": "stdout",
     "text": [
      "              precision    recall  f1-score   support\n\n     Class 0       0.87      0.87      0.87     23667\n     Class 1       0.87      0.86      0.87     23455\n\n    accuracy                           0.87     47122\n   macro avg       0.87      0.87      0.87     47122\nweighted avg       0.87      0.87      0.87     47122\n\n"
     ]
    }
   ],
   "source": [
    "target_names = [\"Class {}\".format(i) for i in range(2)]\n",
    "print(classification_report(y_test, y_test_hat, target_names=target_names))"
   ]
  },
  {
   "source": [
    "### Generating a confusion matrix"
   ],
   "cell_type": "markdown",
   "metadata": {}
  },
  {
   "cell_type": "code",
   "execution_count": 53,
   "metadata": {},
   "outputs": [
    {
     "output_type": "stream",
     "name": "stderr",
     "text": [
      "C:\\Users\\TORIT\\anaconda3\\envs\\Tensorflow\\lib\\site-packages\\sklearn\\utils\\validation.py:70: FutureWarning: Pass labels=[0, 1] as keyword args. From version 1.0 (renaming of 0.25) passing these as positional arguments will result in an error\n  warnings.warn(f\"Pass {args_msg} as keyword args. From version \"\n"
     ]
    },
    {
     "output_type": "display_data",
     "data": {
      "text/plain": "<Figure size 432x288 with 2 Axes>",
      "image/svg+xml": "<?xml version=\"1.0\" encoding=\"utf-8\" standalone=\"no\"?>\r\n<!DOCTYPE svg PUBLIC \"-//W3C//DTD SVG 1.1//EN\"\r\n  \"http://www.w3.org/Graphics/SVG/1.1/DTD/svg11.dtd\">\r\n<!-- Created with matplotlib (https://matplotlib.org/) -->\r\n<svg height=\"281.104219pt\" version=\"1.1\" viewBox=\"0 0 384.612 281.104219\" width=\"384.612pt\" xmlns=\"http://www.w3.org/2000/svg\" xmlns:xlink=\"http://www.w3.org/1999/xlink\">\r\n <metadata>\r\n  <rdf:RDF xmlns:cc=\"http://creativecommons.org/ns#\" xmlns:dc=\"http://purl.org/dc/elements/1.1/\" xmlns:rdf=\"http://www.w3.org/1999/02/22-rdf-syntax-ns#\">\r\n   <cc:Work>\r\n    <dc:type rdf:resource=\"http://purl.org/dc/dcmitype/StillImage\"/>\r\n    <dc:date>2021-06-09T09:43:03.617444</dc:date>\r\n    <dc:format>image/svg+xml</dc:format>\r\n    <dc:creator>\r\n     <cc:Agent>\r\n      <dc:title>Matplotlib v3.3.4, https://matplotlib.org/</dc:title>\r\n     </cc:Agent>\r\n    </dc:creator>\r\n   </cc:Work>\r\n  </rdf:RDF>\r\n </metadata>\r\n <defs>\r\n  <style type=\"text/css\">*{stroke-linecap:butt;stroke-linejoin:round;}</style>\r\n </defs>\r\n <g id=\"figure_1\">\r\n  <g id=\"patch_1\">\r\n   <path d=\"M 0 281.104219 \r\nL 384.612 281.104219 \r\nL 384.612 0 \r\nL 0 0 \r\nz\r\n\" style=\"fill:#ffffff;\"/>\r\n  </g>\r\n  <g id=\"axes_1\">\r\n   <g id=\"patch_2\">\r\n    <path d=\"M 41.874844 239.229375 \r\nL 309.714844 239.229375 \r\nL 309.714844 21.789375 \r\nL 41.874844 21.789375 \r\nz\r\n\" style=\"fill:#eaeaf2;\"/>\r\n   </g>\r\n   <g id=\"matplotlib.axis_1\">\r\n    <g id=\"xtick_1\">\r\n     <g id=\"text_1\">\r\n      <!-- 0 -->\r\n      <g style=\"fill:#262626;\" transform=\"translate(105.776328 256.602969)scale(0.11 -0.11)\">\r\n       <defs>\r\n        <path d=\"M 4.15625 35.296875 \r\nQ 4.15625 48 6.765625 55.734375 \r\nQ 9.375 63.484375 14.515625 67.671875 \r\nQ 19.671875 71.875 27.484375 71.875 \r\nQ 33.25 71.875 37.59375 69.546875 \r\nQ 41.9375 67.234375 44.765625 62.859375 \r\nQ 47.609375 58.5 49.21875 52.21875 \r\nQ 50.828125 45.953125 50.828125 35.296875 \r\nQ 50.828125 22.703125 48.234375 14.96875 \r\nQ 45.65625 7.234375 40.5 3 \r\nQ 35.359375 -1.21875 27.484375 -1.21875 \r\nQ 17.140625 -1.21875 11.234375 6.203125 \r\nQ 4.15625 15.140625 4.15625 35.296875 \r\nz\r\nM 13.1875 35.296875 \r\nQ 13.1875 17.671875 17.3125 11.828125 \r\nQ 21.4375 6 27.484375 6 \r\nQ 33.546875 6 37.671875 11.859375 \r\nQ 41.796875 17.71875 41.796875 35.296875 \r\nQ 41.796875 52.984375 37.671875 58.78125 \r\nQ 33.546875 64.59375 27.390625 64.59375 \r\nQ 21.34375 64.59375 17.71875 59.46875 \r\nQ 13.1875 52.9375 13.1875 35.296875 \r\nz\r\n\" id=\"ArialMT-48\"/>\r\n       </defs>\r\n       <use xlink:href=\"#ArialMT-48\"/>\r\n      </g>\r\n     </g>\r\n    </g>\r\n    <g id=\"xtick_2\">\r\n     <g id=\"text_2\">\r\n      <!-- 1 -->\r\n      <g style=\"fill:#262626;\" transform=\"translate(239.696328 256.602969)scale(0.11 -0.11)\">\r\n       <defs>\r\n        <path d=\"M 37.25 0 \r\nL 28.46875 0 \r\nL 28.46875 56 \r\nQ 25.296875 52.984375 20.140625 49.953125 \r\nQ 14.984375 46.921875 10.890625 45.40625 \r\nL 10.890625 53.90625 \r\nQ 18.265625 57.375 23.78125 62.296875 \r\nQ 29.296875 67.234375 31.59375 71.875 \r\nL 37.25 71.875 \r\nz\r\n\" id=\"ArialMT-49\"/>\r\n       </defs>\r\n       <use xlink:href=\"#ArialMT-49\"/>\r\n      </g>\r\n     </g>\r\n    </g>\r\n    <g id=\"text_3\">\r\n     <!-- Actual diagnostic -->\r\n     <g style=\"fill:#262626;\" transform=\"translate(130.436719 271.378594)scale(0.12 -0.12)\">\r\n      <defs>\r\n       <path d=\"M -0.140625 0 \r\nL 27.34375 71.578125 \r\nL 37.546875 71.578125 \r\nL 66.84375 0 \r\nL 56.0625 0 \r\nL 47.703125 21.6875 \r\nL 17.78125 21.6875 \r\nL 9.90625 0 \r\nz\r\nM 20.515625 29.390625 \r\nL 44.78125 29.390625 \r\nL 37.3125 49.21875 \r\nQ 33.890625 58.25 32.234375 64.0625 \r\nQ 30.859375 57.171875 28.375 50.390625 \r\nz\r\n\" id=\"ArialMT-65\"/>\r\n       <path d=\"M 40.4375 19 \r\nL 49.078125 17.875 \r\nQ 47.65625 8.9375 41.8125 3.875 \r\nQ 35.984375 -1.171875 27.484375 -1.171875 \r\nQ 16.84375 -1.171875 10.375 5.78125 \r\nQ 3.90625 12.75 3.90625 25.734375 \r\nQ 3.90625 34.125 6.6875 40.421875 \r\nQ 9.46875 46.734375 15.15625 49.875 \r\nQ 20.84375 53.03125 27.546875 53.03125 \r\nQ 35.984375 53.03125 41.359375 48.75 \r\nQ 46.734375 44.484375 48.25 36.625 \r\nL 39.703125 35.296875 \r\nQ 38.484375 40.53125 35.375 43.15625 \r\nQ 32.28125 45.796875 27.875 45.796875 \r\nQ 21.234375 45.796875 17.078125 41.03125 \r\nQ 12.9375 36.28125 12.9375 25.984375 \r\nQ 12.9375 15.53125 16.9375 10.796875 \r\nQ 20.953125 6.0625 27.390625 6.0625 \r\nQ 32.5625 6.0625 36.03125 9.234375 \r\nQ 39.5 12.40625 40.4375 19 \r\nz\r\n\" id=\"ArialMT-99\"/>\r\n       <path d=\"M 25.78125 7.859375 \r\nL 27.046875 0.09375 \r\nQ 23.34375 -0.6875 20.40625 -0.6875 \r\nQ 15.625 -0.6875 12.984375 0.828125 \r\nQ 10.359375 2.34375 9.28125 4.8125 \r\nQ 8.203125 7.28125 8.203125 15.1875 \r\nL 8.203125 45.015625 \r\nL 1.765625 45.015625 \r\nL 1.765625 51.859375 \r\nL 8.203125 51.859375 \r\nL 8.203125 64.703125 \r\nL 16.9375 69.96875 \r\nL 16.9375 51.859375 \r\nL 25.78125 51.859375 \r\nL 25.78125 45.015625 \r\nL 16.9375 45.015625 \r\nL 16.9375 14.703125 \r\nQ 16.9375 10.9375 17.40625 9.859375 \r\nQ 17.875 8.796875 18.921875 8.15625 \r\nQ 19.96875 7.515625 21.921875 7.515625 \r\nQ 23.390625 7.515625 25.78125 7.859375 \r\nz\r\n\" id=\"ArialMT-116\"/>\r\n       <path d=\"M 40.578125 0 \r\nL 40.578125 7.625 \r\nQ 34.515625 -1.171875 24.125 -1.171875 \r\nQ 19.53125 -1.171875 15.546875 0.578125 \r\nQ 11.578125 2.34375 9.640625 5 \r\nQ 7.71875 7.671875 6.9375 11.53125 \r\nQ 6.390625 14.109375 6.390625 19.734375 \r\nL 6.390625 51.859375 \r\nL 15.1875 51.859375 \r\nL 15.1875 23.09375 \r\nQ 15.1875 16.21875 15.71875 13.8125 \r\nQ 16.546875 10.359375 19.234375 8.375 \r\nQ 21.921875 6.390625 25.875 6.390625 \r\nQ 29.828125 6.390625 33.296875 8.421875 \r\nQ 36.765625 10.453125 38.203125 13.9375 \r\nQ 39.65625 17.4375 39.65625 24.078125 \r\nL 39.65625 51.859375 \r\nL 48.4375 51.859375 \r\nL 48.4375 0 \r\nz\r\n\" id=\"ArialMT-117\"/>\r\n       <path d=\"M 40.4375 6.390625 \r\nQ 35.546875 2.25 31.03125 0.53125 \r\nQ 26.515625 -1.171875 21.34375 -1.171875 \r\nQ 12.796875 -1.171875 8.203125 3 \r\nQ 3.609375 7.171875 3.609375 13.671875 \r\nQ 3.609375 17.484375 5.34375 20.625 \r\nQ 7.078125 23.78125 9.890625 25.6875 \r\nQ 12.703125 27.59375 16.21875 28.5625 \r\nQ 18.796875 29.25 24.03125 29.890625 \r\nQ 34.671875 31.15625 39.703125 32.90625 \r\nQ 39.75 34.71875 39.75 35.203125 \r\nQ 39.75 40.578125 37.25 42.78125 \r\nQ 33.890625 45.75 27.25 45.75 \r\nQ 21.046875 45.75 18.09375 43.578125 \r\nQ 15.140625 41.40625 13.71875 35.890625 \r\nL 5.125 37.0625 \r\nQ 6.296875 42.578125 8.984375 45.96875 \r\nQ 11.671875 49.359375 16.75 51.1875 \r\nQ 21.828125 53.03125 28.515625 53.03125 \r\nQ 35.15625 53.03125 39.296875 51.46875 \r\nQ 43.453125 49.90625 45.40625 47.53125 \r\nQ 47.359375 45.171875 48.140625 41.546875 \r\nQ 48.578125 39.3125 48.578125 33.453125 \r\nL 48.578125 21.734375 \r\nQ 48.578125 9.46875 49.140625 6.21875 \r\nQ 49.703125 2.984375 51.375 0 \r\nL 42.1875 0 \r\nQ 40.828125 2.734375 40.4375 6.390625 \r\nz\r\nM 39.703125 26.03125 \r\nQ 34.90625 24.078125 25.34375 22.703125 \r\nQ 19.921875 21.921875 17.671875 20.9375 \r\nQ 15.4375 19.96875 14.203125 18.09375 \r\nQ 12.984375 16.21875 12.984375 13.921875 \r\nQ 12.984375 10.40625 15.640625 8.0625 \r\nQ 18.3125 5.71875 23.4375 5.71875 \r\nQ 28.515625 5.71875 32.46875 7.9375 \r\nQ 36.421875 10.15625 38.28125 14.015625 \r\nQ 39.703125 17 39.703125 22.796875 \r\nz\r\n\" id=\"ArialMT-97\"/>\r\n       <path d=\"M 6.390625 0 \r\nL 6.390625 71.578125 \r\nL 15.1875 71.578125 \r\nL 15.1875 0 \r\nz\r\n\" id=\"ArialMT-108\"/>\r\n       <path id=\"ArialMT-32\"/>\r\n       <path d=\"M 40.234375 0 \r\nL 40.234375 6.546875 \r\nQ 35.296875 -1.171875 25.734375 -1.171875 \r\nQ 19.53125 -1.171875 14.328125 2.25 \r\nQ 9.125 5.671875 6.265625 11.796875 \r\nQ 3.421875 17.921875 3.421875 25.875 \r\nQ 3.421875 33.640625 6 39.96875 \r\nQ 8.59375 46.296875 13.765625 49.65625 \r\nQ 18.953125 53.03125 25.34375 53.03125 \r\nQ 30.03125 53.03125 33.6875 51.046875 \r\nQ 37.359375 49.078125 39.65625 45.90625 \r\nL 39.65625 71.578125 \r\nL 48.390625 71.578125 \r\nL 48.390625 0 \r\nz\r\nM 12.453125 25.875 \r\nQ 12.453125 15.921875 16.640625 10.984375 \r\nQ 20.84375 6.0625 26.5625 6.0625 \r\nQ 32.328125 6.0625 36.34375 10.765625 \r\nQ 40.375 15.484375 40.375 25.140625 \r\nQ 40.375 35.796875 36.265625 40.765625 \r\nQ 32.171875 45.75 26.171875 45.75 \r\nQ 20.3125 45.75 16.375 40.96875 \r\nQ 12.453125 36.1875 12.453125 25.875 \r\nz\r\n\" id=\"ArialMT-100\"/>\r\n       <path d=\"M 6.640625 61.46875 \r\nL 6.640625 71.578125 \r\nL 15.4375 71.578125 \r\nL 15.4375 61.46875 \r\nz\r\nM 6.640625 0 \r\nL 6.640625 51.859375 \r\nL 15.4375 51.859375 \r\nL 15.4375 0 \r\nz\r\n\" id=\"ArialMT-105\"/>\r\n       <path d=\"M 4.984375 -4.296875 \r\nL 13.53125 -5.5625 \r\nQ 14.0625 -9.515625 16.5 -11.328125 \r\nQ 19.78125 -13.765625 25.4375 -13.765625 \r\nQ 31.546875 -13.765625 34.859375 -11.328125 \r\nQ 38.1875 -8.890625 39.359375 -4.5 \r\nQ 40.046875 -1.8125 39.984375 6.78125 \r\nQ 34.234375 0 25.640625 0 \r\nQ 14.9375 0 9.078125 7.71875 \r\nQ 3.21875 15.4375 3.21875 26.21875 \r\nQ 3.21875 33.640625 5.90625 39.90625 \r\nQ 8.59375 46.1875 13.6875 49.609375 \r\nQ 18.796875 53.03125 25.6875 53.03125 \r\nQ 34.859375 53.03125 40.828125 45.609375 \r\nL 40.828125 51.859375 \r\nL 48.921875 51.859375 \r\nL 48.921875 7.03125 \r\nQ 48.921875 -5.078125 46.453125 -10.125 \r\nQ 44 -15.1875 38.640625 -18.109375 \r\nQ 33.296875 -21.046875 25.484375 -21.046875 \r\nQ 16.21875 -21.046875 10.5 -16.875 \r\nQ 4.78125 -12.703125 4.984375 -4.296875 \r\nz\r\nM 12.25 26.859375 \r\nQ 12.25 16.65625 16.296875 11.96875 \r\nQ 20.359375 7.28125 26.46875 7.28125 \r\nQ 32.515625 7.28125 36.609375 11.9375 \r\nQ 40.71875 16.609375 40.71875 26.5625 \r\nQ 40.71875 36.078125 36.5 40.90625 \r\nQ 32.28125 45.75 26.3125 45.75 \r\nQ 20.453125 45.75 16.34375 40.984375 \r\nQ 12.25 36.234375 12.25 26.859375 \r\nz\r\n\" id=\"ArialMT-103\"/>\r\n       <path d=\"M 6.59375 0 \r\nL 6.59375 51.859375 \r\nL 14.5 51.859375 \r\nL 14.5 44.484375 \r\nQ 20.21875 53.03125 31 53.03125 \r\nQ 35.6875 53.03125 39.625 51.34375 \r\nQ 43.5625 49.65625 45.515625 46.921875 \r\nQ 47.46875 44.1875 48.25 40.4375 \r\nQ 48.734375 37.984375 48.734375 31.890625 \r\nL 48.734375 0 \r\nL 39.9375 0 \r\nL 39.9375 31.546875 \r\nQ 39.9375 36.921875 38.90625 39.578125 \r\nQ 37.890625 42.234375 35.28125 43.8125 \r\nQ 32.671875 45.40625 29.15625 45.40625 \r\nQ 23.53125 45.40625 19.453125 41.84375 \r\nQ 15.375 38.28125 15.375 28.328125 \r\nL 15.375 0 \r\nz\r\n\" id=\"ArialMT-110\"/>\r\n       <path d=\"M 3.328125 25.921875 \r\nQ 3.328125 40.328125 11.328125 47.265625 \r\nQ 18.015625 53.03125 27.640625 53.03125 \r\nQ 38.328125 53.03125 45.109375 46.015625 \r\nQ 51.90625 39.015625 51.90625 26.65625 \r\nQ 51.90625 16.65625 48.90625 10.90625 \r\nQ 45.90625 5.171875 40.15625 2 \r\nQ 34.421875 -1.171875 27.640625 -1.171875 \r\nQ 16.75 -1.171875 10.03125 5.8125 \r\nQ 3.328125 12.796875 3.328125 25.921875 \r\nz\r\nM 12.359375 25.921875 \r\nQ 12.359375 15.96875 16.703125 11.015625 \r\nQ 21.046875 6.0625 27.640625 6.0625 \r\nQ 34.1875 6.0625 38.53125 11.03125 \r\nQ 42.875 16.015625 42.875 26.21875 \r\nQ 42.875 35.84375 38.5 40.796875 \r\nQ 34.125 45.75 27.640625 45.75 \r\nQ 21.046875 45.75 16.703125 40.8125 \r\nQ 12.359375 35.890625 12.359375 25.921875 \r\nz\r\n\" id=\"ArialMT-111\"/>\r\n       <path d=\"M 3.078125 15.484375 \r\nL 11.765625 16.84375 \r\nQ 12.5 11.625 15.84375 8.84375 \r\nQ 19.1875 6.0625 25.203125 6.0625 \r\nQ 31.25 6.0625 34.171875 8.515625 \r\nQ 37.109375 10.984375 37.109375 14.3125 \r\nQ 37.109375 17.28125 34.515625 19 \r\nQ 32.71875 20.171875 25.53125 21.96875 \r\nQ 15.875 24.421875 12.140625 26.203125 \r\nQ 8.40625 27.984375 6.46875 31.125 \r\nQ 4.546875 34.28125 4.546875 38.09375 \r\nQ 4.546875 41.546875 6.125 44.5 \r\nQ 7.71875 47.46875 10.453125 49.421875 \r\nQ 12.5 50.921875 16.03125 51.96875 \r\nQ 19.578125 53.03125 23.640625 53.03125 \r\nQ 29.734375 53.03125 34.34375 51.265625 \r\nQ 38.96875 49.515625 41.15625 46.5 \r\nQ 43.359375 43.5 44.1875 38.484375 \r\nL 35.59375 37.3125 \r\nQ 35.015625 41.3125 32.203125 43.546875 \r\nQ 29.390625 45.796875 24.265625 45.796875 \r\nQ 18.21875 45.796875 15.625 43.796875 \r\nQ 13.03125 41.796875 13.03125 39.109375 \r\nQ 13.03125 37.40625 14.109375 36.03125 \r\nQ 15.1875 34.625 17.484375 33.6875 \r\nQ 18.796875 33.203125 25.25 31.453125 \r\nQ 34.578125 28.953125 38.25 27.359375 \r\nQ 41.9375 25.78125 44.03125 22.75 \r\nQ 46.140625 19.734375 46.140625 15.234375 \r\nQ 46.140625 10.84375 43.578125 6.953125 \r\nQ 41.015625 3.078125 36.171875 0.953125 \r\nQ 31.34375 -1.171875 25.25 -1.171875 \r\nQ 15.140625 -1.171875 9.84375 3.03125 \r\nQ 4.546875 7.234375 3.078125 15.484375 \r\nz\r\n\" id=\"ArialMT-115\"/>\r\n      </defs>\r\n      <use xlink:href=\"#ArialMT-65\"/>\r\n      <use x=\"66.699219\" xlink:href=\"#ArialMT-99\"/>\r\n      <use x=\"116.699219\" xlink:href=\"#ArialMT-116\"/>\r\n      <use x=\"144.482422\" xlink:href=\"#ArialMT-117\"/>\r\n      <use x=\"200.097656\" xlink:href=\"#ArialMT-97\"/>\r\n      <use x=\"255.712891\" xlink:href=\"#ArialMT-108\"/>\r\n      <use x=\"277.929688\" xlink:href=\"#ArialMT-32\"/>\r\n      <use x=\"305.712891\" xlink:href=\"#ArialMT-100\"/>\r\n      <use x=\"361.328125\" xlink:href=\"#ArialMT-105\"/>\r\n      <use x=\"383.544922\" xlink:href=\"#ArialMT-97\"/>\r\n      <use x=\"439.160156\" xlink:href=\"#ArialMT-103\"/>\r\n      <use x=\"494.775391\" xlink:href=\"#ArialMT-110\"/>\r\n      <use x=\"550.390625\" xlink:href=\"#ArialMT-111\"/>\r\n      <use x=\"606.005859\" xlink:href=\"#ArialMT-115\"/>\r\n      <use x=\"656.005859\" xlink:href=\"#ArialMT-116\"/>\r\n      <use x=\"683.789062\" xlink:href=\"#ArialMT-105\"/>\r\n      <use x=\"706.005859\" xlink:href=\"#ArialMT-99\"/>\r\n     </g>\r\n    </g>\r\n   </g>\r\n   <g id=\"matplotlib.axis_2\">\r\n    <g id=\"ytick_1\">\r\n     <g id=\"text_4\">\r\n      <!-- 0 -->\r\n      <g style=\"fill:#262626;\" transform=\"translate(30.188594 78.329609)rotate(-90)scale(0.11 -0.11)\">\r\n       <use xlink:href=\"#ArialMT-48\"/>\r\n      </g>\r\n     </g>\r\n    </g>\r\n    <g id=\"ytick_2\">\r\n     <g id=\"text_5\">\r\n      <!-- 1 -->\r\n      <g style=\"fill:#262626;\" transform=\"translate(30.188594 187.049609)rotate(-90)scale(0.11 -0.11)\">\r\n       <use xlink:href=\"#ArialMT-49\"/>\r\n      </g>\r\n     </g>\r\n    </g>\r\n    <g id=\"text_6\">\r\n     <!-- Predicted diagnostic -->\r\n     <g style=\"fill:#262626;\" transform=\"translate(15.789375 184.538438)rotate(-90)scale(0.12 -0.12)\">\r\n      <defs>\r\n       <path d=\"M 7.71875 0 \r\nL 7.71875 71.578125 \r\nL 34.71875 71.578125 \r\nQ 41.84375 71.578125 45.609375 70.90625 \r\nQ 50.875 70.015625 54.4375 67.546875 \r\nQ 58.015625 65.09375 60.1875 60.640625 \r\nQ 62.359375 56.203125 62.359375 50.875 \r\nQ 62.359375 41.75 56.546875 35.421875 \r\nQ 50.734375 29.109375 35.546875 29.109375 \r\nL 17.1875 29.109375 \r\nL 17.1875 0 \r\nz\r\nM 17.1875 37.546875 \r\nL 35.6875 37.546875 \r\nQ 44.875 37.546875 48.734375 40.96875 \r\nQ 52.59375 44.390625 52.59375 50.59375 \r\nQ 52.59375 55.078125 50.3125 58.265625 \r\nQ 48.046875 61.46875 44.34375 62.5 \r\nQ 41.9375 63.140625 35.5 63.140625 \r\nL 17.1875 63.140625 \r\nz\r\n\" id=\"ArialMT-80\"/>\r\n       <path d=\"M 6.5 0 \r\nL 6.5 51.859375 \r\nL 14.40625 51.859375 \r\nL 14.40625 44 \r\nQ 17.4375 49.515625 20 51.265625 \r\nQ 22.5625 53.03125 25.640625 53.03125 \r\nQ 30.078125 53.03125 34.671875 50.203125 \r\nL 31.640625 42.046875 \r\nQ 28.421875 43.953125 25.203125 43.953125 \r\nQ 22.3125 43.953125 20.015625 42.21875 \r\nQ 17.71875 40.484375 16.75 37.40625 \r\nQ 15.28125 32.71875 15.28125 27.15625 \r\nL 15.28125 0 \r\nz\r\n\" id=\"ArialMT-114\"/>\r\n       <path d=\"M 42.09375 16.703125 \r\nL 51.171875 15.578125 \r\nQ 49.03125 7.625 43.21875 3.21875 \r\nQ 37.40625 -1.171875 28.375 -1.171875 \r\nQ 17 -1.171875 10.328125 5.828125 \r\nQ 3.65625 12.84375 3.65625 25.484375 \r\nQ 3.65625 38.578125 10.390625 45.796875 \r\nQ 17.140625 53.03125 27.875 53.03125 \r\nQ 38.28125 53.03125 44.875 45.953125 \r\nQ 51.46875 38.875 51.46875 26.03125 \r\nQ 51.46875 25.25 51.421875 23.6875 \r\nL 12.75 23.6875 \r\nQ 13.234375 15.140625 17.578125 10.59375 \r\nQ 21.921875 6.0625 28.421875 6.0625 \r\nQ 33.25 6.0625 36.671875 8.59375 \r\nQ 40.09375 11.140625 42.09375 16.703125 \r\nz\r\nM 13.234375 30.90625 \r\nL 42.1875 30.90625 \r\nQ 41.609375 37.453125 38.875 40.71875 \r\nQ 34.671875 45.796875 27.984375 45.796875 \r\nQ 21.921875 45.796875 17.796875 41.75 \r\nQ 13.671875 37.703125 13.234375 30.90625 \r\nz\r\n\" id=\"ArialMT-101\"/>\r\n      </defs>\r\n      <use xlink:href=\"#ArialMT-80\"/>\r\n      <use x=\"66.699219\" xlink:href=\"#ArialMT-114\"/>\r\n      <use x=\"100\" xlink:href=\"#ArialMT-101\"/>\r\n      <use x=\"155.615234\" xlink:href=\"#ArialMT-100\"/>\r\n      <use x=\"211.230469\" xlink:href=\"#ArialMT-105\"/>\r\n      <use x=\"233.447266\" xlink:href=\"#ArialMT-99\"/>\r\n      <use x=\"283.447266\" xlink:href=\"#ArialMT-116\"/>\r\n      <use x=\"311.230469\" xlink:href=\"#ArialMT-101\"/>\r\n      <use x=\"366.845703\" xlink:href=\"#ArialMT-100\"/>\r\n      <use x=\"422.460938\" xlink:href=\"#ArialMT-32\"/>\r\n      <use x=\"450.244141\" xlink:href=\"#ArialMT-100\"/>\r\n      <use x=\"505.859375\" xlink:href=\"#ArialMT-105\"/>\r\n      <use x=\"528.076172\" xlink:href=\"#ArialMT-97\"/>\r\n      <use x=\"583.691406\" xlink:href=\"#ArialMT-103\"/>\r\n      <use x=\"639.306641\" xlink:href=\"#ArialMT-110\"/>\r\n      <use x=\"694.921875\" xlink:href=\"#ArialMT-111\"/>\r\n      <use x=\"750.537109\" xlink:href=\"#ArialMT-115\"/>\r\n      <use x=\"800.537109\" xlink:href=\"#ArialMT-116\"/>\r\n      <use x=\"828.320312\" xlink:href=\"#ArialMT-105\"/>\r\n      <use x=\"850.537109\" xlink:href=\"#ArialMT-99\"/>\r\n     </g>\r\n    </g>\r\n   </g>\r\n   <g id=\"QuadMesh_1\">\r\n    <path clip-path=\"url(#p8de4f628f1)\" d=\"M 41.874844 21.789375 \r\nL 175.794844 21.789375 \r\nL 175.794844 130.509375 \r\nL 41.874844 130.509375 \r\nL 41.874844 21.789375 \r\n\" style=\"fill:#00441b;\"/>\r\n    <path clip-path=\"url(#p8de4f628f1)\" d=\"M 175.794844 21.789375 \r\nL 309.714844 21.789375 \r\nL 309.714844 130.509375 \r\nL 175.794844 130.509375 \r\nL 175.794844 21.789375 \r\n\" style=\"fill:#f7fcf5;\"/>\r\n    <path clip-path=\"url(#p8de4f628f1)\" d=\"M 41.874844 130.509375 \r\nL 175.794844 130.509375 \r\nL 175.794844 239.229375 \r\nL 41.874844 239.229375 \r\nL 41.874844 130.509375 \r\n\" style=\"fill:#f6fcf4;\"/>\r\n    <path clip-path=\"url(#p8de4f628f1)\" d=\"M 175.794844 130.509375 \r\nL 309.714844 130.509375 \r\nL 309.714844 239.229375 \r\nL 175.794844 239.229375 \r\nL 175.794844 130.509375 \r\n\" style=\"fill:#004a1e;\"/>\r\n   </g>\r\n   <g id=\"text_7\">\r\n    <!-- 20652 -->\r\n    <g style=\"fill:#ffffff;\" transform=\"translate(92.152031 79.251563)scale(0.12 -0.12)\">\r\n     <defs>\r\n      <path d=\"M 50.34375 8.453125 \r\nL 50.34375 0 \r\nL 3.03125 0 \r\nQ 2.9375 3.171875 4.046875 6.109375 \r\nQ 5.859375 10.9375 9.828125 15.625 \r\nQ 13.8125 20.3125 21.34375 26.46875 \r\nQ 33.015625 36.03125 37.109375 41.625 \r\nQ 41.21875 47.21875 41.21875 52.203125 \r\nQ 41.21875 57.421875 37.46875 61 \r\nQ 33.734375 64.59375 27.734375 64.59375 \r\nQ 21.390625 64.59375 17.578125 60.78125 \r\nQ 13.765625 56.984375 13.71875 50.25 \r\nL 4.6875 51.171875 \r\nQ 5.609375 61.28125 11.65625 66.578125 \r\nQ 17.71875 71.875 27.9375 71.875 \r\nQ 38.234375 71.875 44.234375 66.15625 \r\nQ 50.25 60.453125 50.25 52 \r\nQ 50.25 47.703125 48.484375 43.546875 \r\nQ 46.734375 39.40625 42.65625 34.8125 \r\nQ 38.578125 30.21875 29.109375 22.21875 \r\nQ 21.1875 15.578125 18.9375 13.203125 \r\nQ 16.703125 10.84375 15.234375 8.453125 \r\nz\r\n\" id=\"ArialMT-50\"/>\r\n      <path d=\"M 49.75 54.046875 \r\nL 41.015625 53.375 \r\nQ 39.84375 58.546875 37.703125 60.890625 \r\nQ 34.125 64.65625 28.90625 64.65625 \r\nQ 24.703125 64.65625 21.53125 62.3125 \r\nQ 17.390625 59.28125 14.984375 53.46875 \r\nQ 12.59375 47.65625 12.5 36.921875 \r\nQ 15.671875 41.75 20.265625 44.09375 \r\nQ 24.859375 46.4375 29.890625 46.4375 \r\nQ 38.671875 46.4375 44.84375 39.96875 \r\nQ 51.03125 33.5 51.03125 23.25 \r\nQ 51.03125 16.5 48.125 10.71875 \r\nQ 45.21875 4.9375 40.140625 1.859375 \r\nQ 35.0625 -1.21875 28.609375 -1.21875 \r\nQ 17.625 -1.21875 10.6875 6.859375 \r\nQ 3.765625 14.9375 3.765625 33.5 \r\nQ 3.765625 54.25 11.421875 63.671875 \r\nQ 18.109375 71.875 29.4375 71.875 \r\nQ 37.890625 71.875 43.28125 67.140625 \r\nQ 48.6875 62.40625 49.75 54.046875 \r\nz\r\nM 13.875 23.1875 \r\nQ 13.875 18.65625 15.796875 14.5 \r\nQ 17.71875 10.359375 21.1875 8.171875 \r\nQ 24.65625 6 28.46875 6 \r\nQ 34.03125 6 38.03125 10.484375 \r\nQ 42.046875 14.984375 42.046875 22.703125 \r\nQ 42.046875 30.125 38.078125 34.390625 \r\nQ 34.125 38.671875 28.125 38.671875 \r\nQ 22.171875 38.671875 18.015625 34.390625 \r\nQ 13.875 30.125 13.875 23.1875 \r\nz\r\n\" id=\"ArialMT-54\"/>\r\n      <path d=\"M 4.15625 18.75 \r\nL 13.375 19.53125 \r\nQ 14.40625 12.796875 18.140625 9.390625 \r\nQ 21.875 6 27.15625 6 \r\nQ 33.5 6 37.890625 10.78125 \r\nQ 42.28125 15.578125 42.28125 23.484375 \r\nQ 42.28125 31 38.0625 35.34375 \r\nQ 33.84375 39.703125 27 39.703125 \r\nQ 22.75 39.703125 19.328125 37.765625 \r\nQ 15.921875 35.84375 13.96875 32.765625 \r\nL 5.71875 33.84375 \r\nL 12.640625 70.609375 \r\nL 48.25 70.609375 \r\nL 48.25 62.203125 \r\nL 19.671875 62.203125 \r\nL 15.828125 42.96875 \r\nQ 22.265625 47.46875 29.34375 47.46875 \r\nQ 38.71875 47.46875 45.15625 40.96875 \r\nQ 51.609375 34.46875 51.609375 24.265625 \r\nQ 51.609375 14.546875 45.953125 7.46875 \r\nQ 39.0625 -1.21875 27.15625 -1.21875 \r\nQ 17.390625 -1.21875 11.203125 4.25 \r\nQ 5.03125 9.71875 4.15625 18.75 \r\nz\r\n\" id=\"ArialMT-53\"/>\r\n     </defs>\r\n     <use xlink:href=\"#ArialMT-50\"/>\r\n     <use x=\"55.615234\" xlink:href=\"#ArialMT-48\"/>\r\n     <use x=\"111.230469\" xlink:href=\"#ArialMT-54\"/>\r\n     <use x=\"166.845703\" xlink:href=\"#ArialMT-53\"/>\r\n     <use x=\"222.460938\" xlink:href=\"#ArialMT-50\"/>\r\n    </g>\r\n   </g>\r\n   <g id=\"text_8\">\r\n    <!-- 3015 -->\r\n    <g style=\"fill:#262626;\" transform=\"translate(229.408594 79.251563)scale(0.12 -0.12)\">\r\n     <defs>\r\n      <path d=\"M 4.203125 18.890625 \r\nL 12.984375 20.0625 \r\nQ 14.5 12.59375 18.140625 9.296875 \r\nQ 21.78125 6 27 6 \r\nQ 33.203125 6 37.46875 10.296875 \r\nQ 41.75 14.59375 41.75 20.953125 \r\nQ 41.75 27 37.796875 30.921875 \r\nQ 33.84375 34.859375 27.734375 34.859375 \r\nQ 25.25 34.859375 21.53125 33.890625 \r\nL 22.515625 41.609375 \r\nQ 23.390625 41.5 23.921875 41.5 \r\nQ 29.546875 41.5 34.03125 44.421875 \r\nQ 38.53125 47.359375 38.53125 53.46875 \r\nQ 38.53125 58.296875 35.25 61.46875 \r\nQ 31.984375 64.65625 26.8125 64.65625 \r\nQ 21.6875 64.65625 18.265625 61.421875 \r\nQ 14.84375 58.203125 13.875 51.765625 \r\nL 5.078125 53.328125 \r\nQ 6.6875 62.15625 12.390625 67.015625 \r\nQ 18.109375 71.875 26.609375 71.875 \r\nQ 32.46875 71.875 37.390625 69.359375 \r\nQ 42.328125 66.84375 44.9375 62.5 \r\nQ 47.5625 58.15625 47.5625 53.265625 \r\nQ 47.5625 48.640625 45.0625 44.828125 \r\nQ 42.578125 41.015625 37.703125 38.765625 \r\nQ 44.046875 37.3125 47.5625 32.6875 \r\nQ 51.078125 28.078125 51.078125 21.140625 \r\nQ 51.078125 11.765625 44.234375 5.25 \r\nQ 37.40625 -1.265625 26.953125 -1.265625 \r\nQ 17.53125 -1.265625 11.296875 4.34375 \r\nQ 5.078125 9.96875 4.203125 18.890625 \r\nz\r\n\" id=\"ArialMT-51\"/>\r\n     </defs>\r\n     <use xlink:href=\"#ArialMT-51\"/>\r\n     <use x=\"55.615234\" xlink:href=\"#ArialMT-48\"/>\r\n     <use x=\"111.230469\" xlink:href=\"#ArialMT-49\"/>\r\n     <use x=\"166.845703\" xlink:href=\"#ArialMT-53\"/>\r\n    </g>\r\n   </g>\r\n   <g id=\"text_9\">\r\n    <!-- 3210 -->\r\n    <g style=\"fill:#262626;\" transform=\"translate(95.488594 187.971563)scale(0.12 -0.12)\">\r\n     <use xlink:href=\"#ArialMT-51\"/>\r\n     <use x=\"55.615234\" xlink:href=\"#ArialMT-50\"/>\r\n     <use x=\"111.230469\" xlink:href=\"#ArialMT-49\"/>\r\n     <use x=\"166.845703\" xlink:href=\"#ArialMT-48\"/>\r\n    </g>\r\n   </g>\r\n   <g id=\"text_10\">\r\n    <!-- 20245 -->\r\n    <g style=\"fill:#ffffff;\" transform=\"translate(226.072031 187.971563)scale(0.12 -0.12)\">\r\n     <defs>\r\n      <path d=\"M 32.328125 0 \r\nL 32.328125 17.140625 \r\nL 1.265625 17.140625 \r\nL 1.265625 25.203125 \r\nL 33.9375 71.578125 \r\nL 41.109375 71.578125 \r\nL 41.109375 25.203125 \r\nL 50.78125 25.203125 \r\nL 50.78125 17.140625 \r\nL 41.109375 17.140625 \r\nL 41.109375 0 \r\nz\r\nM 32.328125 25.203125 \r\nL 32.328125 57.46875 \r\nL 9.90625 25.203125 \r\nz\r\n\" id=\"ArialMT-52\"/>\r\n     </defs>\r\n     <use xlink:href=\"#ArialMT-50\"/>\r\n     <use x=\"55.615234\" xlink:href=\"#ArialMT-48\"/>\r\n     <use x=\"111.230469\" xlink:href=\"#ArialMT-50\"/>\r\n     <use x=\"166.845703\" xlink:href=\"#ArialMT-52\"/>\r\n     <use x=\"222.460938\" xlink:href=\"#ArialMT-53\"/>\r\n    </g>\r\n   </g>\r\n   <g id=\"text_11\">\r\n    <!-- Confusion Matrix -->\r\n    <g style=\"fill:#262626;\" transform=\"translate(130.779844 15.789375)scale(0.12 -0.12)\">\r\n     <defs>\r\n      <path d=\"M 58.796875 25.09375 \r\nL 68.265625 22.703125 \r\nQ 65.28125 11.03125 57.546875 4.90625 \r\nQ 49.8125 -1.21875 38.625 -1.21875 \r\nQ 27.046875 -1.21875 19.796875 3.484375 \r\nQ 12.546875 8.203125 8.765625 17.140625 \r\nQ 4.984375 26.078125 4.984375 36.328125 \r\nQ 4.984375 47.515625 9.25 55.828125 \r\nQ 13.53125 64.15625 21.40625 68.46875 \r\nQ 29.296875 72.796875 38.765625 72.796875 \r\nQ 49.515625 72.796875 56.828125 67.328125 \r\nQ 64.15625 61.859375 67.046875 51.953125 \r\nL 57.71875 49.75 \r\nQ 55.21875 57.5625 50.484375 61.125 \r\nQ 45.75 64.703125 38.578125 64.703125 \r\nQ 30.328125 64.703125 24.78125 60.734375 \r\nQ 19.234375 56.78125 16.984375 50.109375 \r\nQ 14.75 43.453125 14.75 36.375 \r\nQ 14.75 27.25 17.40625 20.4375 \r\nQ 20.0625 13.625 25.671875 10.25 \r\nQ 31.296875 6.890625 37.84375 6.890625 \r\nQ 45.796875 6.890625 51.3125 11.46875 \r\nQ 56.84375 16.0625 58.796875 25.09375 \r\nz\r\n\" id=\"ArialMT-67\"/>\r\n      <path d=\"M 8.6875 0 \r\nL 8.6875 45.015625 \r\nL 0.921875 45.015625 \r\nL 0.921875 51.859375 \r\nL 8.6875 51.859375 \r\nL 8.6875 57.375 \r\nQ 8.6875 62.59375 9.625 65.140625 \r\nQ 10.890625 68.5625 14.078125 70.671875 \r\nQ 17.28125 72.796875 23.046875 72.796875 \r\nQ 26.765625 72.796875 31.25 71.921875 \r\nL 29.9375 64.265625 \r\nQ 27.203125 64.75 24.75 64.75 \r\nQ 20.75 64.75 19.09375 63.03125 \r\nQ 17.4375 61.328125 17.4375 56.640625 \r\nL 17.4375 51.859375 \r\nL 27.546875 51.859375 \r\nL 27.546875 45.015625 \r\nL 17.4375 45.015625 \r\nL 17.4375 0 \r\nz\r\n\" id=\"ArialMT-102\"/>\r\n      <path d=\"M 7.421875 0 \r\nL 7.421875 71.578125 \r\nL 21.6875 71.578125 \r\nL 38.625 20.90625 \r\nQ 40.96875 13.8125 42.046875 10.296875 \r\nQ 43.265625 14.203125 45.84375 21.78125 \r\nL 62.984375 71.578125 \r\nL 75.734375 71.578125 \r\nL 75.734375 0 \r\nL 66.609375 0 \r\nL 66.609375 59.90625 \r\nL 45.796875 0 \r\nL 37.25 0 \r\nL 16.546875 60.9375 \r\nL 16.546875 0 \r\nz\r\n\" id=\"ArialMT-77\"/>\r\n      <path d=\"M 0.734375 0 \r\nL 19.671875 26.953125 \r\nL 2.15625 51.859375 \r\nL 13.140625 51.859375 \r\nL 21.09375 39.703125 \r\nQ 23.34375 36.234375 24.703125 33.890625 \r\nQ 26.859375 37.109375 28.65625 39.59375 \r\nL 37.40625 51.859375 \r\nL 47.90625 51.859375 \r\nL 29.984375 27.4375 \r\nL 49.265625 0 \r\nL 38.484375 0 \r\nL 27.828125 16.109375 \r\nL 25 20.453125 \r\nL 11.375 0 \r\nz\r\n\" id=\"ArialMT-120\"/>\r\n     </defs>\r\n     <use xlink:href=\"#ArialMT-67\"/>\r\n     <use x=\"72.216797\" xlink:href=\"#ArialMT-111\"/>\r\n     <use x=\"127.832031\" xlink:href=\"#ArialMT-110\"/>\r\n     <use x=\"183.447266\" xlink:href=\"#ArialMT-102\"/>\r\n     <use x=\"211.230469\" xlink:href=\"#ArialMT-117\"/>\r\n     <use x=\"266.845703\" xlink:href=\"#ArialMT-115\"/>\r\n     <use x=\"316.845703\" xlink:href=\"#ArialMT-105\"/>\r\n     <use x=\"339.0625\" xlink:href=\"#ArialMT-111\"/>\r\n     <use x=\"394.677734\" xlink:href=\"#ArialMT-110\"/>\r\n     <use x=\"450.292969\" xlink:href=\"#ArialMT-32\"/>\r\n     <use x=\"478.076172\" xlink:href=\"#ArialMT-77\"/>\r\n     <use x=\"561.376953\" xlink:href=\"#ArialMT-97\"/>\r\n     <use x=\"616.992188\" xlink:href=\"#ArialMT-116\"/>\r\n     <use x=\"644.775391\" xlink:href=\"#ArialMT-114\"/>\r\n     <use x=\"678.076172\" xlink:href=\"#ArialMT-105\"/>\r\n     <use x=\"700.292969\" xlink:href=\"#ArialMT-120\"/>\r\n    </g>\r\n   </g>\r\n  </g>\r\n  <g id=\"axes_2\">\r\n   <g id=\"patch_3\">\r\n    <path clip-path=\"url(#p1b2e3f6576)\" d=\"M 326.454844 239.229375 \r\nL 326.454844 238.38 \r\nL 326.454844 22.63875 \r\nL 326.454844 21.789375 \r\nL 337.326844 21.789375 \r\nL 337.326844 22.63875 \r\nL 337.326844 238.38 \r\nL 337.326844 239.229375 \r\nz\r\n\" style=\"fill:#eaeaf2;stroke:#eaeaf2;stroke-linejoin:miter;stroke-width:0.01;\"/>\r\n   </g>\r\n   <g id=\"matplotlib.axis_3\"/>\r\n   <g id=\"matplotlib.axis_4\">\r\n    <g id=\"ytick_3\">\r\n     <g id=\"line2d_1\">\r\n      <defs>\r\n       <path d=\"M 0 0 \r\nL 6 0 \r\n\" id=\"m6cc0124d83\" style=\"stroke:#262626;stroke-width:1.25;\"/>\r\n      </defs>\r\n      <g>\r\n       <use style=\"fill:#262626;stroke:#262626;stroke-width:1.25;\" x=\"337.326844\" xlink:href=\"#m6cc0124d83\" y=\"227.085677\"/>\r\n      </g>\r\n     </g>\r\n     <g id=\"text_12\">\r\n      <!-- 4000 -->\r\n      <g style=\"fill:#262626;\" transform=\"translate(346.826844 231.022474)scale(0.11 -0.11)\">\r\n       <use xlink:href=\"#ArialMT-52\"/>\r\n       <use x=\"55.615234\" xlink:href=\"#ArialMT-48\"/>\r\n       <use x=\"111.230469\" xlink:href=\"#ArialMT-48\"/>\r\n       <use x=\"166.845703\" xlink:href=\"#ArialMT-48\"/>\r\n      </g>\r\n     </g>\r\n    </g>\r\n    <g id=\"ytick_4\">\r\n     <g id=\"line2d_2\">\r\n      <g>\r\n       <use style=\"fill:#262626;stroke:#262626;stroke-width:1.25;\" x=\"337.326844\" xlink:href=\"#m6cc0124d83\" y=\"202.428422\"/>\r\n      </g>\r\n     </g>\r\n     <g id=\"text_13\">\r\n      <!-- 6000 -->\r\n      <g style=\"fill:#262626;\" transform=\"translate(346.826844 206.365219)scale(0.11 -0.11)\">\r\n       <use xlink:href=\"#ArialMT-54\"/>\r\n       <use x=\"55.615234\" xlink:href=\"#ArialMT-48\"/>\r\n       <use x=\"111.230469\" xlink:href=\"#ArialMT-48\"/>\r\n       <use x=\"166.845703\" xlink:href=\"#ArialMT-48\"/>\r\n      </g>\r\n     </g>\r\n    </g>\r\n    <g id=\"ytick_5\">\r\n     <g id=\"line2d_3\">\r\n      <g>\r\n       <use style=\"fill:#262626;stroke:#262626;stroke-width:1.25;\" x=\"337.326844\" xlink:href=\"#m6cc0124d83\" y=\"177.771168\"/>\r\n      </g>\r\n     </g>\r\n     <g id=\"text_14\">\r\n      <!-- 8000 -->\r\n      <g style=\"fill:#262626;\" transform=\"translate(346.826844 181.707965)scale(0.11 -0.11)\">\r\n       <defs>\r\n        <path d=\"M 17.671875 38.8125 \r\nQ 12.203125 40.828125 9.5625 44.53125 \r\nQ 6.9375 48.25 6.9375 53.421875 \r\nQ 6.9375 61.234375 12.546875 66.546875 \r\nQ 18.171875 71.875 27.484375 71.875 \r\nQ 36.859375 71.875 42.578125 66.421875 \r\nQ 48.296875 60.984375 48.296875 53.171875 \r\nQ 48.296875 48.1875 45.671875 44.5 \r\nQ 43.0625 40.828125 37.75 38.8125 \r\nQ 44.34375 36.671875 47.78125 31.875 \r\nQ 51.21875 27.09375 51.21875 20.453125 \r\nQ 51.21875 11.28125 44.71875 5.03125 \r\nQ 38.234375 -1.21875 27.640625 -1.21875 \r\nQ 17.046875 -1.21875 10.546875 5.046875 \r\nQ 4.046875 11.328125 4.046875 20.703125 \r\nQ 4.046875 27.6875 7.59375 32.390625 \r\nQ 11.140625 37.109375 17.671875 38.8125 \r\nz\r\nM 15.921875 53.71875 \r\nQ 15.921875 48.640625 19.1875 45.40625 \r\nQ 22.46875 42.1875 27.6875 42.1875 \r\nQ 32.765625 42.1875 36.015625 45.375 \r\nQ 39.265625 48.578125 39.265625 53.21875 \r\nQ 39.265625 58.0625 35.90625 61.359375 \r\nQ 32.5625 64.65625 27.59375 64.65625 \r\nQ 22.5625 64.65625 19.234375 61.421875 \r\nQ 15.921875 58.203125 15.921875 53.71875 \r\nz\r\nM 13.09375 20.65625 \r\nQ 13.09375 16.890625 14.875 13.375 \r\nQ 16.65625 9.859375 20.171875 7.921875 \r\nQ 23.6875 6 27.734375 6 \r\nQ 34.03125 6 38.125 10.046875 \r\nQ 42.234375 14.109375 42.234375 20.359375 \r\nQ 42.234375 26.703125 38.015625 30.859375 \r\nQ 33.796875 35.015625 27.4375 35.015625 \r\nQ 21.234375 35.015625 17.15625 30.90625 \r\nQ 13.09375 26.8125 13.09375 20.65625 \r\nz\r\n\" id=\"ArialMT-56\"/>\r\n       </defs>\r\n       <use xlink:href=\"#ArialMT-56\"/>\r\n       <use x=\"55.615234\" xlink:href=\"#ArialMT-48\"/>\r\n       <use x=\"111.230469\" xlink:href=\"#ArialMT-48\"/>\r\n       <use x=\"166.845703\" xlink:href=\"#ArialMT-48\"/>\r\n      </g>\r\n     </g>\r\n    </g>\r\n    <g id=\"ytick_6\">\r\n     <g id=\"line2d_4\">\r\n      <g>\r\n       <use style=\"fill:#262626;stroke:#262626;stroke-width:1.25;\" x=\"337.326844\" xlink:href=\"#m6cc0124d83\" y=\"153.113913\"/>\r\n      </g>\r\n     </g>\r\n     <g id=\"text_15\">\r\n      <!-- 10000 -->\r\n      <g style=\"fill:#262626;\" transform=\"translate(346.826844 157.05071)scale(0.11 -0.11)\">\r\n       <use xlink:href=\"#ArialMT-49\"/>\r\n       <use x=\"55.615234\" xlink:href=\"#ArialMT-48\"/>\r\n       <use x=\"111.230469\" xlink:href=\"#ArialMT-48\"/>\r\n       <use x=\"166.845703\" xlink:href=\"#ArialMT-48\"/>\r\n       <use x=\"222.460938\" xlink:href=\"#ArialMT-48\"/>\r\n      </g>\r\n     </g>\r\n    </g>\r\n    <g id=\"ytick_7\">\r\n     <g id=\"line2d_5\">\r\n      <g>\r\n       <use style=\"fill:#262626;stroke:#262626;stroke-width:1.25;\" x=\"337.326844\" xlink:href=\"#m6cc0124d83\" y=\"128.456659\"/>\r\n      </g>\r\n     </g>\r\n     <g id=\"text_16\">\r\n      <!-- 12000 -->\r\n      <g style=\"fill:#262626;\" transform=\"translate(346.826844 132.393455)scale(0.11 -0.11)\">\r\n       <use xlink:href=\"#ArialMT-49\"/>\r\n       <use x=\"55.615234\" xlink:href=\"#ArialMT-50\"/>\r\n       <use x=\"111.230469\" xlink:href=\"#ArialMT-48\"/>\r\n       <use x=\"166.845703\" xlink:href=\"#ArialMT-48\"/>\r\n       <use x=\"222.460938\" xlink:href=\"#ArialMT-48\"/>\r\n      </g>\r\n     </g>\r\n    </g>\r\n    <g id=\"ytick_8\">\r\n     <g id=\"line2d_6\">\r\n      <g>\r\n       <use style=\"fill:#262626;stroke:#262626;stroke-width:1.25;\" x=\"337.326844\" xlink:href=\"#m6cc0124d83\" y=\"103.799404\"/>\r\n      </g>\r\n     </g>\r\n     <g id=\"text_17\">\r\n      <!-- 14000 -->\r\n      <g style=\"fill:#262626;\" transform=\"translate(346.826844 107.736201)scale(0.11 -0.11)\">\r\n       <use xlink:href=\"#ArialMT-49\"/>\r\n       <use x=\"55.615234\" xlink:href=\"#ArialMT-52\"/>\r\n       <use x=\"111.230469\" xlink:href=\"#ArialMT-48\"/>\r\n       <use x=\"166.845703\" xlink:href=\"#ArialMT-48\"/>\r\n       <use x=\"222.460938\" xlink:href=\"#ArialMT-48\"/>\r\n      </g>\r\n     </g>\r\n    </g>\r\n    <g id=\"ytick_9\">\r\n     <g id=\"line2d_7\">\r\n      <g>\r\n       <use style=\"fill:#262626;stroke:#262626;stroke-width:1.25;\" x=\"337.326844\" xlink:href=\"#m6cc0124d83\" y=\"79.142149\"/>\r\n      </g>\r\n     </g>\r\n     <g id=\"text_18\">\r\n      <!-- 16000 -->\r\n      <g style=\"fill:#262626;\" transform=\"translate(346.826844 83.078946)scale(0.11 -0.11)\">\r\n       <use xlink:href=\"#ArialMT-49\"/>\r\n       <use x=\"55.615234\" xlink:href=\"#ArialMT-54\"/>\r\n       <use x=\"111.230469\" xlink:href=\"#ArialMT-48\"/>\r\n       <use x=\"166.845703\" xlink:href=\"#ArialMT-48\"/>\r\n       <use x=\"222.460938\" xlink:href=\"#ArialMT-48\"/>\r\n      </g>\r\n     </g>\r\n    </g>\r\n    <g id=\"ytick_10\">\r\n     <g id=\"line2d_8\">\r\n      <g>\r\n       <use style=\"fill:#262626;stroke:#262626;stroke-width:1.25;\" x=\"337.326844\" xlink:href=\"#m6cc0124d83\" y=\"54.484895\"/>\r\n      </g>\r\n     </g>\r\n     <g id=\"text_19\">\r\n      <!-- 18000 -->\r\n      <g style=\"fill:#262626;\" transform=\"translate(346.826844 58.421692)scale(0.11 -0.11)\">\r\n       <use xlink:href=\"#ArialMT-49\"/>\r\n       <use x=\"55.615234\" xlink:href=\"#ArialMT-56\"/>\r\n       <use x=\"111.230469\" xlink:href=\"#ArialMT-48\"/>\r\n       <use x=\"166.845703\" xlink:href=\"#ArialMT-48\"/>\r\n       <use x=\"222.460938\" xlink:href=\"#ArialMT-48\"/>\r\n      </g>\r\n     </g>\r\n    </g>\r\n    <g id=\"ytick_11\">\r\n     <g id=\"line2d_9\">\r\n      <g>\r\n       <use style=\"fill:#262626;stroke:#262626;stroke-width:1.25;\" x=\"337.326844\" xlink:href=\"#m6cc0124d83\" y=\"29.82764\"/>\r\n      </g>\r\n     </g>\r\n     <g id=\"text_20\">\r\n      <!-- 20000 -->\r\n      <g style=\"fill:#262626;\" transform=\"translate(346.826844 33.764437)scale(0.11 -0.11)\">\r\n       <use xlink:href=\"#ArialMT-50\"/>\r\n       <use x=\"55.615234\" xlink:href=\"#ArialMT-48\"/>\r\n       <use x=\"111.230469\" xlink:href=\"#ArialMT-48\"/>\r\n       <use x=\"166.845703\" xlink:href=\"#ArialMT-48\"/>\r\n       <use x=\"222.460938\" xlink:href=\"#ArialMT-48\"/>\r\n      </g>\r\n     </g>\r\n    </g>\r\n   </g>\r\n   <image height=\"217\" id=\"imagebecb45fb3b\" transform=\"scale(1 -1)translate(0 -217)\" width=\"11\" x=\"326\" xlink:href=\"data:image/png;base64,\r\niVBORw0KGgoAAAANSUhEUgAAAAsAAADZCAYAAAD2WsoCAAABL0lEQVR4nO2YQQoDMQwD3bL/f23paRP3C57CgFKaszCyJBvvPt73q2v4nlNgVdXVPS5cVxUANwITGnOoyZnqvAkNUJk1eJ7OiDM0JYIzlW7+UrLRRcLPaHgNWuDNVkFG6kjlHWJ3RjZC7A7Jc2Vw9qRbvRJomHlGYKKGuJG0ylqDSGczG2C6F9p1KQ2iypoaKeGPsNsMP+CMaKTYrdEQ1UB2Z9yiMeG38pyihjgppMFNdB5DVc4wSPMH1cjg7IX/JmqEcIbLXHPQC/8YincdC79Fg31KM/AYW9dG4ddoiCcEa3CMNTmLOv+63TAbETQ86Y4Mv3Yxrr/d31YOyQY7IZDd3h+qDJ1RNuAROMaa0hWxm4FJg+iuA1//uHIGDSSdZ4qYjRM5azRCJsVz0JqUD/E7B9gCEUEzAAAAAElFTkSuQmCC\" y=\"-22\"/>\r\n   <g id=\"patch_4\">\r\n    <path d=\"M 326.454844 239.229375 \r\nL 326.454844 238.38 \r\nL 326.454844 22.63875 \r\nL 326.454844 21.789375 \r\nL 337.326844 21.789375 \r\nL 337.326844 22.63875 \r\nL 337.326844 238.38 \r\nL 337.326844 239.229375 \r\nz\r\n\" style=\"fill:none;\"/>\r\n   </g>\r\n  </g>\r\n </g>\r\n <defs>\r\n  <clipPath id=\"p8de4f628f1\">\r\n   <rect height=\"217.44\" width=\"267.84\" x=\"41.874844\" y=\"21.789375\"/>\r\n  </clipPath>\r\n  <clipPath id=\"p1b2e3f6576\">\r\n   <rect height=\"217.44\" width=\"10.872\" x=\"326.454844\" y=\"21.789375\"/>\r\n  </clipPath>\r\n </defs>\r\n</svg>\r\n",
      "image/png": "[encoded data removed]"
     },
     "metadata": {}
    }
   ],
   "source": [
    "labels = [0,1]\n",
    "confusion_matrix(y_test, y_test_hat,labels = labels)\n",
    "\n",
    "cm = confusion_matrix(y_test, y_test_hat,labels)\n",
    "sns.heatmap(cm,\n",
    "            annot=True,\n",
    "            fmt='d',\n",
    "            xticklabels=labels,\n",
    "            yticklabels=labels,\n",
    "            cmap='Greens')\n",
    "plt.ylabel('Predicted diagnostic')\n",
    "plt.xlabel('Actual diagnostic');\n",
    "plt.title('Confusion Matrix')\n",
    "plt.savefig('Confusion matrix.pdf')\n"
   ]
  },
  {
   "cell_type": "code",
   "execution_count": null,
   "metadata": {},
   "outputs": [],
   "source": []
  }
 ],
 "metadata": {
  "kernelspec": {
   "name": "python388jvsc74a57bd0662a09919159dd71668a2580fc8e6b2fdc7a5e1972d5009d3cf28b4884c19bab",
   "display_name": "Python 3.8.8 64-bit ('Tensorflow': conda)"
  },
  "language_info": {
   "codemirror_mode": {
    "name": "ipython",
    "version": 3
   },
   "file_extension": ".py",
   "mimetype": "text/x-python",
   "name": "python",
   "nbconvert_exporter": "python",
   "pygments_lexer": "ipython3",
   "version": "3.8.8"
  }
 },
 "nbformat": 4,
 "nbformat_minor": 2
}